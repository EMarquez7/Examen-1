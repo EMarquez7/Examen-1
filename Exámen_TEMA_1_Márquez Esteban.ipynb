{
 "cells": [
  {
   "cell_type": "markdown",
   "metadata": {},
   "source": [
    "___\n",
    "<img style=\"float: left; margin: 30px 15px 15px 15px;\" src=\"https://pngimage.net/wp-content/uploads/2018/06/logo-iteso-png-5.png\" width=\"300\" height=\"500\" /> \n",
    "\n",
    "\n",
    "# PRIMER EXÁMEN PARCIAL\n",
    "# SIMULACIÓN DE PROCESOS FINANCIEROS\n",
    "\n",
    "## Examen Tema 1\n",
    "## Nombre:Esteban Márquez Delgado\n",
    "\n",
    "## Fecha: 28 de septiembre del 2021\n",
    "\n",
    "## Por: Oscar David Jaramillo Z."
   ]
  },
  {
   "cell_type": "markdown",
   "metadata": {},
   "source": [
    "### Responde los siguientes cuestionamientos usando al menos 10000 simulaciones"
   ]
  },
  {
   "cell_type": "markdown",
   "metadata": {},
   "source": [
    "## 1. Un juego de lanzamiento de una moneda (5 puntos)\n",
    "\n",
    "Al ingresar al casino, descubres que, además de los juegos habituales (blackjack, ruleta, etc.), ofrecen un nuevo juego interesante con las siguientes reglas.\n",
    "Reglas del juego.\n",
    "- Cada jugada del juego consiste en **lanzar repetidamente una moneda** imparcial **hasta que la diferencia** entre el número de caras lanzadas y el número de sellos **es 3**.\n",
    "- Si decides jugar el juego, debes pagar **$ \\$ 1 $ por cada lanzamiento** de la moneda. **No puedes salir durante una jugada** del juego.\n",
    "- Usted **recibe $\\$8 $ al final de cada uno de los juegos**.\n",
    "\n",
    "Por lo tanto, **ganas dinero si el número de lanzamientos** requeridos es **menor a 8**, pero pierdes dinero si se requieren más de 8 lanzamientos."
   ]
  },
  {
   "cell_type": "code",
   "execution_count": 2,
   "metadata": {
    "ExecuteTime": {
     "end_time": "2021-11-02T05:45:11.846064Z",
     "start_time": "2021-11-02T05:45:07.213160Z"
    },
    "code_folding": []
   },
   "outputs": [],
   "source": [
    "# Importación de paquetes\n",
    "import numpy as np\n",
    "import random\n",
    "#Función para la producción de valores igualmente distribuidos\n",
    "from random import randrange \n",
    "import matplotlib.pyplot as plt\n",
    "import pandas as pd\n",
    "import scipy.stats as st"
   ]
  },
  {
   "cell_type": "code",
   "execution_count": 6,
   "metadata": {
    "ExecuteTime": {
     "end_time": "2021-11-02T05:45:48.717856Z",
     "start_time": "2021-11-02T05:45:44.164031Z"
    },
    "scrolled": true
   },
   "outputs": [],
   "source": [
    "def juego_moneda(cap_inicial, apuesta, n_juegos, premio, inicio):\n",
    "    capital = np.zeros(n_juegos) #Vectores de ceros para su llenado\n",
    "    heads = np.zeros(n_juegos)#Todos comenzarán de 0 y para ello se establece en la función\n",
    "    tails = np.zeros(n_juegos)#Las ocurrencias se reiniciarán \n",
    "    diff = np.zeros(n_juegos)#Cuando la diferencia entre el número de caras y sellos sea 3\n",
    "    juegos=np.zeros(n_juegos)\n",
    "    capital[0] = cap_inicial #Capital inicial\n",
    "    heads[0] = inicio #Ocurrencias al inicializar \n",
    "    tails[0] = inicio #Iguales a 0\n",
    "    diff[0] = inicio #0\n",
    "    juegos[0] = inicio #0\n",
    "    \n",
    "    def fill_vector(i):\n",
    "        nonlocal capital #nonlocal para trabajar con nuestros arreglos no internos a la función\n",
    "        nonlocal heads \n",
    "        nonlocal tails\n",
    "        nonlocal diff\n",
    "        nonlocal juegos\n",
    "        \n",
    "        if randrange(2) == 0: #Lanzamiento de moneda igual a 0 o 1 con función para valores equiprobables.\n",
    "            heads[i+1] = heads[i] + 1 #Registro si obtenemos cara\n",
    "            tails[i+1] = tails[i] #Sello constante\n",
    "            diff[i+1]=abs(tails[i+1]-heads[i+1]) #Registro de diferencias\n",
    "            juegos[i+1]=juegos[i]\n",
    "        else: \n",
    "            tails[i+1] = tails[i] + 1 #Registro si obtenemos sello\n",
    "            heads[i+1] = heads[i] #Cara constante\n",
    "            diff[i+1]=abs(tails[i+1]-heads[i+1]) #Registro de diferencias\n",
    "            juegos[i+1]=juegos[i]\n",
    "                \n",
    "        if diff[i] < 3: #Cuando la diferencia entre C/S es menor a 3\n",
    "                capital[i + 1] = capital[i] - apuesta #Perdemos la apuesta ($1)\n",
    "                \n",
    "        if diff[i] == 3: #Cuando la diferencia entre C/S es igual a 3\n",
    "                capital[i + 1] = capital[i] + premio #Ganamos el premio ($8)\n",
    "                diff[i+1] = inicio #Reiniciamos diferencias\n",
    "                heads[i+1] = inicio #Caras\n",
    "                tails[i+1] = inicio #Y sellos\n",
    "                juegos[i+1]=juegos[i]+1\n",
    "                \n",
    "    [fill_vector(i) for i in range(n_juegos - 1)] #Llenado de capital cuyo valor no se reinicia.\n",
    "    return juegos\n",
    "\n",
    "n=10000 #n simulaciones\n",
    "juegos=juego_moneda(0,1,10001,8,0) #Número de juegos deseado +1\n",
    "juegos_arr = np.array([juego_moneda(0,1,101,8,0) for i in range(n)]) #Simulaciones de x juegos\n",
    "#Tiempo de ejecución: 4.22s, 10000 simulaciones y 10000 simulaciones de 100 juegos (juegos_arr1)"
   ]
  },
  {
   "cell_type": "markdown",
   "metadata": {},
   "source": [
    "*Con el juego planteado anteriormente, responda las siguientes preguntas:*"
   ]
  },
  {
   "cell_type": "markdown",
   "metadata": {},
   "source": [
    "1. ¿Cuál es el **promedio de tiradas hasta que termina un juego?** ¿Cuál es su **desviación estándar?** (dibuja su **histograma)**."
   ]
  },
  {
   "cell_type": "markdown",
   "metadata": {},
   "source": [
    "**(Respuesta 1: promedio de tiradas)**"
   ]
  },
  {
   "cell_type": "code",
   "execution_count": 7,
   "metadata": {
    "ExecuteTime": {
     "end_time": "2021-11-02T05:45:48.733814Z",
     "start_time": "2021-11-02T05:45:48.719850Z"
    }
   },
   "outputs": [
    {
     "name": "stdout",
     "output_type": "stream",
     "text": [
      "El promedio de lanzamientos hasta que un juego termine es de = 10.14\n"
     ]
    }
   ],
   "source": [
    "print('El promedio de lanzamientos hasta que un juego termine es de =',round((juegos.shape/(juegos+1))[-1],2))"
   ]
  },
  {
   "cell_type": "markdown",
   "metadata": {},
   "source": [
    "**(Respuesta 1: desv. std.)**"
   ]
  },
  {
   "cell_type": "code",
   "execution_count": 5,
   "metadata": {
    "ExecuteTime": {
     "end_time": "2021-11-02T05:45:34.079626Z",
     "start_time": "2021-11-02T05:45:34.069651Z"
    }
   },
   "outputs": [
    {
     "name": "stdout",
     "output_type": "stream",
     "text": [
      "La desviación estándar del número de juegos hasta que este termina es de σ = 293.7\n"
     ]
    }
   ],
   "source": [
    "print('La desviación estándar del número de juegos hasta que este termina es de σ =',round(juegos.std(),2))"
   ]
  },
  {
   "cell_type": "markdown",
   "metadata": {
    "ExecuteTime": {
     "end_time": "2021-10-05T16:26:28.785098Z",
     "start_time": "2021-10-05T16:26:28.777119Z"
    }
   },
   "source": [
    "**(Complemento de Respuesta 1: Gráfico.)**"
   ]
  },
  {
   "cell_type": "code",
   "execution_count": 157,
   "metadata": {
    "ExecuteTime": {
     "end_time": "2021-10-05T17:34:17.046784Z",
     "start_time": "2021-10-05T17:34:16.808886Z"
    }
   },
   "outputs": [
    {
     "data": {
      "image/png": "[encoded data removed]",
      "text/plain": [
       "<Figure size 640x480 with 1 Axes>"
      ]
     },
     "metadata": {},
     "output_type": "display_data"
    }
   ],
   "source": [
    "#Curiosidad..\n",
    "#Útil para evaluar la relación de juegos, lanzamientos, costo de lanzamiento y premio..\n",
    "plt.style.use('classic') #Comportamiento gráfico\n",
    "plt.plot(juegos, color='black') \n",
    "plt.title('10000 Lanzamientos de moneda')\n",
    "plt.xlabel('Lanzamientos')\n",
    "plt.ylabel('Juegos')\n",
    "plt.grid()\n",
    "plt.show()"
   ]
  },
  {
   "cell_type": "markdown",
   "metadata": {},
   "source": [
    "Mediante el gráfico anterior podemos comprobar que el promedio de lanzamientos efectivamente es 9.98 porque para 10,000 simulaciones se tiene ≈ 1000 juegos (1001), igualmente comprobable accediendo al último valor del arreglo que retorna la función **juego_moneda** ( *juegos[-1]* ). Esta gráfica nos fue útil para diseñar el juego mientras retornamos la variable *capital* con pocos *n_juegos* para visualizar los juegos en los que se otorgaba el premio. Del mismo modo, hubo que asegurarse que las variables no locales *heads,tails y diff* avanzaran en sus arreglos junto con *n_juegos* pero que permanecieran *constantes* de no verse afectadas por el resultado del lanzamiento en curso."
   ]
  },
  {
   "cell_type": "markdown",
   "metadata": {},
   "source": [
    "**(Respuesta 1: Histograma.)**"
   ]
  },
  {
   "cell_type": "code",
   "execution_count": 158,
   "metadata": {
    "ExecuteTime": {
     "end_time": "2021-10-05T17:34:48.362172Z",
     "start_time": "2021-10-05T17:34:47.889977Z"
    }
   },
   "outputs": [
    {
     "data": {
      "text/plain": [
       "(array([1.000e+00, 6.300e+01, 5.900e+02, 7.850e+02, 2.924e+03, 3.397e+03,\n",
       "        1.143e+03, 9.320e+02, 1.520e+02, 1.300e+01]),\n",
       " array([ 1. ,  2.7,  4.4,  6.1,  7.8,  9.5, 11.2, 12.9, 14.6, 16.3, 18. ]),\n",
       " <BarContainer object of 10 artists>)"
      ]
     },
     "execution_count": 158,
     "metadata": {},
     "output_type": "execute_result"
    },
    {
     "data": {
      "image/png": "[encoded data removed]",
      "text/plain": [
       "<Figure size 640x480 with 1 Axes>"
      ]
     },
     "metadata": {},
     "output_type": "display_data"
    }
   ],
   "source": [
    "#Mientras el sesgo se acumula a la izquierda el juego no es rentable\n",
    "plt.title(\"Hist. de juegos terminados sobre 10000 sim. de lanzamientos\")\n",
    "plt.xlabel('Juegos')\n",
    "plt.ylabel('Dominio de la frecuencia')\n",
    "plot_hist=plt.hist((juegos_arr[:n,-1]), color='darkgreen')\n",
    "plot_hist"
   ]
  },
  {
   "cell_type": "markdown",
   "metadata": {},
   "source": [
    "2. Para el inciso anterior ¿Cuál es la **probabilidad de que tires más de 10 veces** para terminar un juego? ¿ **y** de que tires **menos de 5 veces**?."
   ]
  },
  {
   "cell_type": "code",
   "execution_count": 125,
   "metadata": {
    "ExecuteTime": {
     "end_time": "2021-10-05T17:09:56.757371Z",
     "start_time": "2021-10-05T17:09:56.723461Z"
    }
   },
   "outputs": [
    {
     "data": {
      "text/html": [
       "<div>\n",
       "<style scoped>\n",
       "    .dataframe tbody tr th:only-of-type {\n",
       "        vertical-align: middle;\n",
       "    }\n",
       "\n",
       "    .dataframe tbody tr th {\n",
       "        vertical-align: top;\n",
       "    }\n",
       "\n",
       "    .dataframe thead th {\n",
       "        text-align: right;\n",
       "    }\n",
       "</style>\n",
       "<table border=\"1\" class=\"dataframe\">\n",
       "  <thead>\n",
       "    <tr style=\"text-align: right;\">\n",
       "      <th></th>\n",
       "      <th>10000 simulaciones de 100 juegos %</th>\n",
       "    </tr>\n",
       "    <tr>\n",
       "      <th>100</th>\n",
       "      <th></th>\n",
       "    </tr>\n",
       "  </thead>\n",
       "  <tbody>\n",
       "    <tr>\n",
       "      <th>10.0</th>\n",
       "      <td>17.92</td>\n",
       "    </tr>\n",
       "    <tr>\n",
       "      <th>9.0</th>\n",
       "      <td>17.04</td>\n",
       "    </tr>\n",
       "    <tr>\n",
       "      <th>11.0</th>\n",
       "      <td>15.96</td>\n",
       "    </tr>\n",
       "    <tr>\n",
       "      <th>8.0</th>\n",
       "      <td>12.80</td>\n",
       "    </tr>\n",
       "    <tr>\n",
       "      <th>12.0</th>\n",
       "      <td>11.24</td>\n",
       "    </tr>\n",
       "    <tr>\n",
       "      <th>7.0</th>\n",
       "      <td>8.22</td>\n",
       "    </tr>\n",
       "    <tr>\n",
       "      <th>13.0</th>\n",
       "      <td>6.26</td>\n",
       "    </tr>\n",
       "    <tr>\n",
       "      <th>6.0</th>\n",
       "      <td>3.78</td>\n",
       "    </tr>\n",
       "    <tr>\n",
       "      <th>14.0</th>\n",
       "      <td>3.02</td>\n",
       "    </tr>\n",
       "    <tr>\n",
       "      <th>5.0</th>\n",
       "      <td>1.51</td>\n",
       "    </tr>\n",
       "    <tr>\n",
       "      <th>15.0</th>\n",
       "      <td>1.07</td>\n",
       "    </tr>\n",
       "    <tr>\n",
       "      <th>4.0</th>\n",
       "      <td>0.63</td>\n",
       "    </tr>\n",
       "    <tr>\n",
       "      <th>16.0</th>\n",
       "      <td>0.36</td>\n",
       "    </tr>\n",
       "    <tr>\n",
       "      <th>3.0</th>\n",
       "      <td>0.10</td>\n",
       "    </tr>\n",
       "    <tr>\n",
       "      <th>17.0</th>\n",
       "      <td>0.06</td>\n",
       "    </tr>\n",
       "    <tr>\n",
       "      <th>1.0</th>\n",
       "      <td>0.01</td>\n",
       "    </tr>\n",
       "    <tr>\n",
       "      <th>2.0</th>\n",
       "      <td>0.01</td>\n",
       "    </tr>\n",
       "    <tr>\n",
       "      <th>18.0</th>\n",
       "      <td>0.01</td>\n",
       "    </tr>\n",
       "  </tbody>\n",
       "</table>\n",
       "</div>"
      ],
      "text/plain": [
       "      10000 simulaciones de 100 juegos %\n",
       "100                                     \n",
       "10.0                               17.92\n",
       "9.0                                17.04\n",
       "11.0                               15.96\n",
       "8.0                                12.80\n",
       "12.0                               11.24\n",
       "7.0                                 8.22\n",
       "13.0                                6.26\n",
       "6.0                                 3.78\n",
       "14.0                                3.02\n",
       "5.0                                 1.51\n",
       "15.0                                1.07\n",
       "4.0                                 0.63\n",
       "16.0                                0.36\n",
       "3.0                                 0.10\n",
       "17.0                                0.06\n",
       "1.0                                 0.01\n",
       "2.0                                 0.01\n",
       "18.0                                0.01"
      ]
     },
     "execution_count": 125,
     "metadata": {},
     "output_type": "execute_result"
    }
   ],
   "source": [
    "#Porcentaje de número de juegos en 100 lanzamientos con 10000 simulaciones en orden descendente.\n",
    "df_cantjuegos = pd.DataFrame(juegos_arr) #Convertimos arreglo a df para utilizar la función que retorna el valor con mayor prob.\n",
    "cant_juegos=df_cantjuegos.iloc[:,-1:].mode() #La moda del número de juegos en el último lanzamiento.\n",
    "cant_juegos=cant_juegos.values[0] #Regresamos de df a arreglo para poder utilizar len(x)>y ó len(x)<y en la respuesta..\n",
    "sim_juegos=(df_cantjuegos.iloc[:,-1:].value_counts()/n)*100 #Pero ántes visualizamos la prob. de valores únicos en orden descendente.\n",
    "df =pd.DataFrame({'10000 simulaciones de 100 juegos %': sim_juegos})\n",
    "df"
   ]
  },
  {
   "cell_type": "markdown",
   "metadata": {},
   "source": [
    "Mediante la visualización de la prob. del número de juegos en orden descendente podemos darnos una idea de si el juego es rentable o no. \n",
    "\n",
    "Posteriormente se demostrará que no.."
   ]
  },
  {
   "cell_type": "markdown",
   "metadata": {},
   "source": [
    "**(Respuesta 1.2: Probabilidades.)**"
   ]
  },
  {
   "cell_type": "code",
   "execution_count": 159,
   "metadata": {
    "ExecuteTime": {
     "end_time": "2021-10-05T17:36:17.258300Z",
     "start_time": "2021-10-05T17:36:17.243331Z"
    }
   },
   "outputs": [
    {
     "name": "stdout",
     "output_type": "stream",
     "text": [
      "La prob. de que se tire más de 10 veces es de: 38.23 %. Por otro lado, la prob. de que se tiré menos de 5 veces es tan solo de: 0.64 %. Como dato útil y adicional obtenemos la prob. de perder, por ser la cantidad de veces en los que tendríamos que hacer más de 8 lanzamientos, equivalente al: 73.24 % de las veces.\n"
     ]
    }
   ],
   "source": [
    "#Para ser más precisos obtenemos la prob. de tirar más de 10 veces y menos de 5.\n",
    "((len(juegos_arr[:n,-1][juegos_arr[:n,-1]>10])/10000)*100)\n",
    "print('La prob. de que se tire más de 10 veces es de:',round(((len(juegos_arr[:n,-1][juegos_arr[:n,-1]>10])/10000)*100),2),\\\n",
    "      '%. Por otro lado, la prob. de que se tiré menos de 5 veces es tan solo de:'\\\n",
    "      ,((len(juegos_arr[:n,-1][juegos_arr[:n,-1]<5])/10000)*100),'%. Como dato útil y adicional obtenemos la prob. de perder'\\\n",
    "      ', por ser la cantidad de veces en los que tendríamos que hacer más de 8 lanzamientos, equivalente al:'\n",
    "      ,round(((len(juegos_arr[:n,-1][juegos_arr[:n,-1]>8])/10000)*100),2),'% de las veces.')"
   ]
  },
  {
   "cell_type": "markdown",
   "metadata": {},
   "source": [
    "3. **Imagina  que lanzas 100** tiros exactos la moneda. ¿Cuál es tu **valor esperado de \\$\\$ ganado/perdido**? ¿Y tu **valor más probable**?¿Cuál es la **probabilidad de ganar dinero**? (Grafica el histograma de simulaciones)."
   ]
  },
  {
   "cell_type": "code",
   "execution_count": 160,
   "metadata": {
    "ExecuteTime": {
     "end_time": "2021-10-05T17:36:49.100863Z",
     "start_time": "2021-10-05T17:36:44.480210Z"
    },
    "code_folding": []
   },
   "outputs": [],
   "source": [
    "#Se utiliza la misma función pero que RETORNE CAPITAL EN VEZ DE # de JUEGOS jugados.\n",
    "def juego_moneda(cap_inicial, apuesta, n_juegos, premio, inicio):\n",
    "    capital = np.zeros(n_juegos) #Vectores de ceros para su llenado\n",
    "    heads = np.zeros(n_juegos)#Todos comenzarán de 0 y para ello se establece en la función\n",
    "    tails = np.zeros(n_juegos)#Las ocurrencias se reiniciarán \n",
    "    diff = np.zeros(n_juegos)#Cuando la diferencia entre el número de caras y sellos sea 3\n",
    "    juegos=np.zeros(n_juegos)\n",
    "    capital[0] = cap_inicial #Capital inicial\n",
    "    heads[0] = inicio #Ocurrencias al inicializar \n",
    "    tails[0] = inicio #Iguales a 0\n",
    "    diff[0] = inicio\n",
    "    juegos[0] = inicio\n",
    "    \n",
    "    def fill_vector(i):\n",
    "        nonlocal capital #nonlocal para trabajar con nuestros arreglos no internos a la función\n",
    "        nonlocal heads \n",
    "        nonlocal tails\n",
    "        nonlocal diff\n",
    "        nonlocal juegos\n",
    "        \n",
    "        if randrange(2) == 0: #Lanzamiento de moneda igual a 0 o 1 \n",
    "            heads[i+1] = heads[i] + 1 #Registro si obtenemos cara\n",
    "            tails[i+1] = tails[i] #Sello constante\n",
    "            diff[i+1]=abs(tails[i+1]-heads[i+1]) #Registro de diferencias\n",
    "            juegos[i+1]=juegos[i]\n",
    "        else: \n",
    "            tails[i+1] = tails[i] + 1 #Registro si obtenemos sello\n",
    "            heads[i+1] = heads[i] #Cara constante\n",
    "            diff[i+1]=abs(tails[i+1]-heads[i+1]) #Registro de diferencias\n",
    "            juegos[i+1]=juegos[i]\n",
    "                \n",
    "        if diff[i] < 3: #Cuando la diferencia entre C/S es menor a 3\n",
    "                capital[i + 1] = capital[i] - apuesta #Perdemos la apuesta ($1)\n",
    "                \n",
    "        if diff[i] == 3: #Cuando la diferencia entre C/S es igual a 3\n",
    "                capital[i + 1] = capital[i] + premio #Ganamos el premio ($8)\n",
    "                diff[i+1] = inicio #Reiniciamos diferencias\n",
    "                heads[i+1] = inicio #Caras\n",
    "                tails[i+1] = inicio #Y sellos\n",
    "                juegos[i+1]=juegos[i]+1\n",
    "                \n",
    "    [fill_vector(i) for i in range(n_juegos - 1)] #Llenado de capital cuyo valor no se reinicia.\n",
    "    return capital\n",
    "\n",
    "n=10000 #n simulaciones\n",
    "capital=juego_moneda(0,1,101,8,0) #Número de juegos deseado +1\n",
    "z = np.array([juego_moneda(0,1,101,8,0) for i in range(n)]) #Simulaciones de x juegos"
   ]
  },
  {
   "cell_type": "markdown",
   "metadata": {
    "ExecuteTime": {
     "end_time": "2021-10-05T17:19:04.405257Z",
     "start_time": "2021-10-05T17:19:04.392293Z"
    }
   },
   "source": [
    "**(Respuesta 1.3.1: Valor esperado.)**"
   ]
  },
  {
   "cell_type": "code",
   "execution_count": 162,
   "metadata": {
    "ExecuteTime": {
     "end_time": "2021-10-05T17:37:38.490717Z",
     "start_time": "2021-10-05T17:37:38.471535Z"
    }
   },
   "outputs": [
    {
     "name": "stdout",
     "output_type": "stream",
     "text": [
      "Tu perdida esperada de 100 lanzamientos es de: $ -11.39 , monto calculado con 10000 simulaciones.\n"
     ]
    }
   ],
   "source": [
    "#A través de la media del valor final sobre nuestro arreglo construido mediante simulaciones obtenemos el valor esperado.\n",
    "print('Tu perdida esperada de 100 lanzamientos es de: $',round(z[:n,-1].mean(),2),', monto calculado con',n,'simulaciones.')"
   ]
  },
  {
   "cell_type": "markdown",
   "metadata": {
    "ExecuteTime": {
     "end_time": "2021-10-05T17:19:56.943966Z",
     "start_time": "2021-10-05T17:19:56.929005Z"
    }
   },
   "source": [
    "**(Respuesta 1.3.2: Capital final más probable.)**"
   ]
  },
  {
   "cell_type": "code",
   "execution_count": 163,
   "metadata": {
    "ExecuteTime": {
     "end_time": "2021-10-05T17:37:45.348361Z",
     "start_time": "2021-10-05T17:37:45.330375Z"
    }
   },
   "outputs": [
    {
     "name": "stdout",
     "output_type": "stream",
     "text": [
      "El capital final más probable tras 100 lanzamientos es de: $ -10.0\n"
     ]
    }
   ],
   "source": [
    "df_juegomoneda = pd.DataFrame(z) #Convertimos el arreglo a df.\n",
    "vf_moneda=df_juegomoneda.iloc[:,-1:].mode() #Para así obtener el capital final con mayores repeticiones o más probable.\n",
    "vf_moneda=vf_moneda.values[0] #Utilizamos values para expresar el valor más probable fuera del df en la respuesta.\n",
    "print('El capital final más probable tras 100 lanzamientos es de: $',vf_moneda[0])"
   ]
  },
  {
   "cell_type": "markdown",
   "metadata": {},
   "source": [
    "**(1.3.3: Probabilidad de Ganar Dinero e Histograma de Simulaciones.)**"
   ]
  },
  {
   "cell_type": "markdown",
   "metadata": {},
   "source": [
    "**(Respuesta 1.3.3: Histograma de Simulaciones.)**"
   ]
  },
  {
   "cell_type": "code",
   "execution_count": 164,
   "metadata": {
    "ExecuteTime": {
     "end_time": "2021-10-05T17:38:00.592392Z",
     "start_time": "2021-10-05T17:38:00.328971Z"
    }
   },
   "outputs": [
    {
     "data": {
      "text/plain": [
       "(array([  13.,  201.,  386., 2127., 1642., 3407., 1766.,  304.,  143.,\n",
       "          11.]),\n",
       " array([-82. , -67.6, -53.2, -38.8, -24.4, -10. ,   4.4,  18.8,  33.2,\n",
       "         47.6,  62. ]),\n",
       " <BarContainer object of 10 artists>)"
      ]
     },
     "execution_count": 164,
     "metadata": {},
     "output_type": "execute_result"
    },
    {
     "data": {
      "image/png": "[encoded data removed]",
      "text/plain": [
       "<Figure size 640x480 with 1 Axes>"
      ]
     },
     "metadata": {},
     "output_type": "display_data"
    }
   ],
   "source": [
    "plt.title(\"Capital final tras 100 juegos de lanzamientos de moneda\")\n",
    "plt.xlabel('Capital')\n",
    "plt.ylabel('Dominio de la frecuencia')\n",
    "plt.hist((z[:n,-1]), width=10, color='darkgreen') #Histograma del últ. valor del arreglo de las simulaciones."
   ]
  },
  {
   "cell_type": "code",
   "execution_count": 165,
   "metadata": {
    "ExecuteTime": {
     "end_time": "2021-10-05T17:38:03.588011Z",
     "start_time": "2021-10-05T17:38:03.566005Z"
    }
   },
   "outputs": [
    {
     "data": {
      "text/plain": [
       "100  \n",
       "-10.0    18.25\n",
       "-19.0    16.42\n",
       "-1.0     15.82\n",
       "-28.0    13.42\n",
       " 8.0     11.00\n",
       "-37.0     7.85\n",
       " 17.0     6.66\n",
       "-46.0     3.86\n",
       " 26.0     3.04\n",
       "-55.0     1.55\n",
       " 35.0     1.12\n",
       "-64.0     0.46\n",
       " 44.0     0.31\n",
       "-73.0     0.11\n",
       " 53.0     0.09\n",
       "-82.0     0.02\n",
       " 62.0     0.02\n",
       "dtype: float64"
      ]
     },
     "execution_count": 165,
     "metadata": {},
     "output_type": "execute_result"
    }
   ],
   "source": [
    "#Probabilidad de valores únicos del df obtenido del anterior histograma.\n",
    "sim_capital_30=(df_juegomoneda.iloc[:,-1:].value_counts()/n)*100\n",
    "sim_capital_30\n",
    "#Puede ser útil observar la probabilidad en orden descendente"
   ]
  },
  {
   "cell_type": "markdown",
   "metadata": {},
   "source": [
    "**(Respuesta 1.3.3: Prob. de ganar dinero.)**"
   ]
  },
  {
   "cell_type": "code",
   "execution_count": 166,
   "metadata": {
    "ExecuteTime": {
     "end_time": "2021-10-05T17:38:08.231099Z",
     "start_time": "2021-10-05T17:38:08.220558Z"
    }
   },
   "outputs": [
    {
     "name": "stdout",
     "output_type": "stream",
     "text": [
      "La prob. de ganar dinero al final de estos 100 lanzamientos de moneda es de: 22.24 %.\n"
     ]
    }
   ],
   "source": [
    "#Todos aquellos que terminan con más de $0 sobre la muestra.\n",
    "print('La prob. de ganar dinero al final de estos 100 lanzamientos de moneda es de:',((len(z[:n,-1][z[:n,-1]>0])/10000)*100),'%.')"
   ]
  },
  {
   "cell_type": "markdown",
   "metadata": {},
   "source": [
    "4. Imagina que **comienzas con $\\$30$** ¿Cuál es el **valor esperado del número de  tiradas** que debes realizar **antes de quedarte sin dinero?** ¿Cuál es la **probabilidad de realizar más de 150 tiradas?** (grafica el **histograma** correspondiente)."
   ]
  },
  {
   "cell_type": "code",
   "execution_count": 167,
   "metadata": {
    "ExecuteTime": {
     "end_time": "2021-10-05T17:38:52.756178Z",
     "start_time": "2021-10-05T17:38:46.099975Z"
    }
   },
   "outputs": [],
   "source": [
    "n=10000 #n simulaciones\n",
    "capital_30=juego_moneda(30,1,150,8,0) #Número de juegos deseado +1\n",
    "z_30 = np.array([juego_moneda(30,1,150,8,0) for i in range(n)]) #Simulaciones de x juegos"
   ]
  },
  {
   "cell_type": "code",
   "execution_count": 168,
   "metadata": {
    "ExecuteTime": {
     "end_time": "2021-10-05T17:38:52.771678Z",
     "start_time": "2021-10-05T17:38:52.758497Z"
    }
   },
   "outputs": [
    {
     "name": "stdout",
     "output_type": "stream",
     "text": [
      "La prob. de poder realizar más de 150 tiradas empezando con $30, es igual a: 66.71000000000001 %\n"
     ]
    }
   ],
   "source": [
    "bool_array = (z_30[:n,-1]>=1)\n",
    "count = np.count_nonzero(bool_array)\n",
    "print('La prob. de poder realizar más de 150 tiradas empezando con $30, es igual a:',(count/n)*100,'%')"
   ]
  },
  {
   "cell_type": "code",
   "execution_count": 169,
   "metadata": {
    "ExecuteTime": {
     "end_time": "2021-10-05T17:39:01.015054Z",
     "start_time": "2021-10-05T17:39:00.781354Z"
    }
   },
   "outputs": [
    {
     "data": {
      "text/plain": [
       "(array([  10.,   83.,  510., 1522., 2669., 2822., 1662.,  580.,  128.,\n",
       "          14.]),\n",
       " array([-74., -56., -38., -20.,  -2.,  16.,  34.,  52.,  70.,  88., 106.]),\n",
       " <BarContainer object of 10 artists>)"
      ]
     },
     "execution_count": 169,
     "metadata": {},
     "output_type": "execute_result"
    },
    {
     "data": {
      "image/png": "[encoded data removed]",
      "text/plain": [
       "<Figure size 640x480 with 1 Axes>"
      ]
     },
     "metadata": {},
     "output_type": "display_data"
    }
   ],
   "source": [
    "#Pareciera un histograma de un juego justo si se iniciará con $0..\n",
    "plt.title(\"100 juegos de lanzamientos de moneda al iniciar con $30\")\n",
    "plt.xlabel('Capital')\n",
    "plt.ylabel('Dominio de la frecuencia')\n",
    "plt.hist((z_30[:n,-1]), width=10, color='darkgreen')"
   ]
  },
  {
   "cell_type": "markdown",
   "metadata": {},
   "source": [
    "## 2. (5 puntos)\n",
    "El juego de dados requiere que el jugador **arroje dos dados una o más veces hasta que** se llegue a una decisión sobre si él (o ella) **gana o pierde**. Él **gana** si la **primera tirada** resulta en una suma de **7 u 11 o**, alternativamente, **si la primera suma es 4, 5, 6, 8, 9 o 10 y la misma suma reaparece antes de que aparezca una suma de 7**. Por el contrario, **pierde si la primera tirada resulta en una suma de 2, 3 o 12 o**, alternativamente, **si la primera suma es 4, 5, 6, 8, 9 o 10 y aparece una suma de 7** *después de la primera suma reaparece*.\n",
    "1. Calcule la **probabilidad de ganar** corriendo **10,000 simulaciones**."
   ]
  },
  {
   "cell_type": "code",
   "execution_count": 170,
   "metadata": {
    "ExecuteTime": {
     "end_time": "2021-10-05T17:39:48.002030Z",
     "start_time": "2021-10-05T17:39:32.444003Z"
    }
   },
   "outputs": [
    {
     "data": {
      "image/png": "[encoded data removed]",
      "text/plain": [
       "<Figure size 640x480 with 1 Axes>"
      ]
     },
     "metadata": {},
     "output_type": "display_data"
    }
   ],
   "source": [
    "def juego_dados(cap_inicial, apuesta, n_dados):\n",
    "    #np.random.seed(102) #Fijación de resultados deshabilitada\n",
    "    dado_1 = np.random.randint(1,7,n_dados) #Creación de 1° dado tirado n_dados veces\n",
    "    dado_2 = np.random.randint(1,7,n_dados) #creación de 2° dado tirado n_dados veces\n",
    "    suma = dado_1+dado_2 #Suma de dados para n_dados tiradas\n",
    "    capital = np.zeros(n_dados) #Vector de ceros para su llenado\n",
    "    capital[0] = cap_inicial #capital inicial\n",
    "    \n",
    "    def fill_vector(i):\n",
    "        nonlocal capital #Comando para trabajar con variables no internas en funciones anidadas\n",
    "        if suma[i] == 7 or suma[i] == 11: \n",
    "            capital[i + 1] = capital[i] + apuesta #Evento ganador en 1° lanzamiento\n",
    "        elif suma[i] == 2 or suma[i] == 3 or suma[i] == 12:\n",
    "            capital[i + 1] = capital[i] - apuesta #Evento perdedor en 1° lanzamiento\n",
    "        else:\n",
    "            dado_1_r = np.random.randint(1,7,n_dados) #De lo contrario tira de nuevo..\n",
    "            dado_2_r = np.random.randint(1,7,n_dados) \n",
    "            suma_r = dado_1_r+dado_2_r \n",
    "            while suma_r[i] != suma[i] and suma_r[i] != 7: #Mientras la nueva suma sea distinta a la 1° o distinta a 7\n",
    "                dado_1_r = np.random.randint(1,7,n_dados)  #tira de nuevo..\n",
    "                dado_2_r = np.random.randint(1,7,n_dados) \n",
    "                suma_r = dado_1_r+dado_2_r \n",
    "            if suma_r[i] == 7: \n",
    "                capital[i + 1] = capital[i] - apuesta #Si la nueva suma es 7, pierdes..\n",
    "            else:\n",
    "                capital[i + 1] = capital[i] + apuesta #Si la nueva suma es igual a la 1° obtenida, ganas..\n",
    "    [fill_vector(i) for i in range(n_dados - 1)] #llenado de vector \n",
    "    return capital\n",
    "\n",
    "n=10000 #n simulaciones \n",
    "prob_ganar1 = juego_dados(0,1,n)\n",
    "ganar=((n/2)+prob_ganar1[-1])/n\n",
    "perder=1-ganar\n",
    "dinero = juego_dados(500,50,11) #Capital inicial de 500 y apuesta de 50 para 10 juegos\n",
    "x = np.array([juego_dados(500,50,11) for i in range(n)])\n",
    "\n",
    "plt.style.use('classic')    \n",
    "plt.plot(dinero) #Comportamiento gráfico\n",
    "plt.title('10 Juegos de dados')\n",
    "plt.xlabel('Juegos')\n",
    "plt.ylabel('Dinero')\n",
    "plt.grid()\n",
    "plt.show()"
   ]
  },
  {
   "cell_type": "code",
   "execution_count": 171,
   "metadata": {
    "ExecuteTime": {
     "end_time": "2021-10-05T17:39:57.561587Z",
     "start_time": "2021-10-05T17:39:57.375895Z"
    },
    "code_folding": [],
    "scrolled": true
   },
   "outputs": [
    {
     "data": {
      "image/png": "[encoded data removed]",
      "text/plain": [
       "<Figure size 640x480 with 1 Axes>"
      ]
     },
     "metadata": {},
     "output_type": "display_data"
    }
   ],
   "source": [
    "#np.random.seed(102) #Fijación de resultados deshabilitada\n",
    "n = 10000 #Número de simulaciones\n",
    "dado_1 = np.random.randint(1,7,n) #Creación de 1° dado tirado n veces\n",
    "dado_2 = np.random.randint(1,7,n) #creación de 2° dado tirado n veces\n",
    "suma = dado_1+dado_2 #Suma de dados para n tiradas\n",
    "#Compresión de listas\n",
    "gana = [len(suma[suma == gana])/len(suma) for gana in [7,11]] #Prob. de ocurrencia de elementos que componen el evento ganador.\n",
    "g=gana[0]+gana[1]\n",
    "pierde = [len(suma[suma == pierde])/len(suma) for pierde in [2,3,12]] # **.. el evento perdedor.\n",
    "p=pierde[0]+pierde[1]+pierde[2]\n",
    "repite = [len(suma[suma == repite])/len(suma) for repite in [4,5,6,8,9,10]] # **.. el evento que tira de nuevo.\n",
    "r=sum([repite[i] for i in range(0,6)])\n",
    "\n",
    "#Histograma de probabilidades\n",
    "plt.style.use('classic')\n",
    "plt.title('Probabidad de eventos')\n",
    "plt.bar(['Prob. de ganar', 'Prob. de perder', 'Prob. de repetir tirada'], [g,p,r])\n",
    "plt.ylabel('Probabilidad')\n",
    "plt.show()"
   ]
  },
  {
   "cell_type": "code",
   "execution_count": 172,
   "metadata": {
    "ExecuteTime": {
     "end_time": "2021-10-05T17:40:01.985157Z",
     "start_time": "2021-10-05T17:40:01.968228Z"
    }
   },
   "outputs": [
    {
     "name": "stdout",
     "output_type": "stream",
     "text": [
      "Aunque la prob. de ganar en el 1° lanzamiento = 22.36 % es > a la de perder = 10.65 %, debido a las 6699.0 veces que se repite el lanzamiento, se gana el juego finalmente con una probabilidad de: 48.91 %, prob. < a la que se tiene de perder: 51.09 %\n"
     ]
    }
   ],
   "source": [
    "#DESCRIPCION DEL JUEGO (curiosidad)\n",
    "print('Aunque la prob. de ganar en el 1° lanzamiento =', g*100,'% es > a la de perder =',round(p*100,2),\n",
    "      '%, debido a las',round(r*n,2),'veces que se repite el lanzamiento, se gana el juego finalmente con una probabilidad de:'\n",
    "      ,round(ganar*100,2),'%, prob. < a la que se tiene de perder:',round(perder*100,2),'%')"
   ]
  },
  {
   "cell_type": "markdown",
   "metadata": {},
   "source": [
    "##### 1. Calcule la **probabilidad de ganar** corriendo **10,000 simulaciones**. (Respuesta)"
   ]
  },
  {
   "cell_type": "code",
   "execution_count": 173,
   "metadata": {
    "ExecuteTime": {
     "end_time": "2021-10-05T17:40:14.172091Z",
     "start_time": "2021-10-05T17:40:14.164114Z"
    }
   },
   "outputs": [
    {
     "name": "stdout",
     "output_type": "stream",
     "text": [
      "La prob. de ganar con 10000 simulaciones es de 48.91 %\n"
     ]
    }
   ],
   "source": [
    "print('La prob. de ganar con',n,'simulaciones es de',round(ganar*100,2),'%')"
   ]
  },
  {
   "cell_type": "markdown",
   "metadata": {},
   "source": [
    "2. Imagina que **cada juego ganas o pierdes $50**. Si **inicias con $500**..\n",
    "##### 2.1 ¿Cuál es tu **valor esperado de dinero después de 10 juegos**?\n",
    "##### 2.2 ¿**y el más probable**?\n",
    "##### 2.3 ¿Cuál es la **probabilidad de ganar dinero?**."
   ]
  },
  {
   "cell_type": "markdown",
   "metadata": {},
   "source": [
    "##### 2.1 ¿Cuál es tu valor esperado después de 10 juegos? (Respuesta)"
   ]
  },
  {
   "cell_type": "code",
   "execution_count": 174,
   "metadata": {
    "ExecuteTime": {
     "end_time": "2021-10-05T17:40:19.050506Z",
     "start_time": "2021-10-05T17:40:19.028728Z"
    },
    "code_folding": []
   },
   "outputs": [
    {
     "name": "stdout",
     "output_type": "stream",
     "text": [
      "Tu dinero al final de estos 10 juegos de dados fue de: $ 500.0 aunque el valor esperado de 10 juegos calculado con: 10000 simulaciones es de $ 492.41 lo que implica un cambio % de capital esperado de -1.52 %, ¿Quieres jugar de nuevo?\n"
     ]
    }
   ],
   "source": [
    "print('Tu dinero al final de estos 10 juegos de dados fue de: $',dinero[-1], 'aunque el valor esperado de 10 juegos',\\\n",
    "      'calculado con:',n,'simulaciones es de $',sum(x[:n,-1])/n,'lo que implica un cambio % de capital esperado de',\n",
    "      (((sum(x[:n,-1]/n)/x[0,0])-1)*100).round(2),'%, ¿Quieres jugar de nuevo?')\n",
    "\n",
    "#Cómputo de media..\n",
    "#media1=([sum(i) for i in zip(*x)][-1])/n #La velocidad de cómputo para ambos es eq.\n",
    "#media2=sum(x[:n,-1])/n #Pero este es más sencillo\n",
    "#media2"
   ]
  },
  {
   "cell_type": "markdown",
   "metadata": {},
   "source": [
    "##### 2.2 ¿Cuál es tu valor esperado más probable después de 10 juegos?"
   ]
  },
  {
   "cell_type": "code",
   "execution_count": 52,
   "metadata": {
    "ExecuteTime": {
     "end_time": "2021-10-05T15:40:42.029354Z",
     "start_time": "2021-10-05T15:40:41.794981Z"
    }
   },
   "outputs": [
    {
     "data": {
      "text/plain": [
       "(array([   0.,  100.,  200.,  300.,  400.,  500.,  600.,  700.,  800.,\n",
       "         900., 1000.]),\n",
       " array([  15,  110,  485, 1231, 2123, 2495, 1979, 1088,  373,   93,    8],\n",
       "       dtype=int64))"
      ]
     },
     "execution_count": 52,
     "metadata": {},
     "output_type": "execute_result"
    },
    {
     "data": {
      "image/png": "[encoded data removed]",
      "text/plain": [
       "<Figure size 640x480 with 1 Axes>"
      ]
     },
     "metadata": {},
     "output_type": "display_data"
    }
   ],
   "source": [
    "plt.title(\"Capital final tras 10 juegos de dados\")\n",
    "plt.xlabel('Capital')\n",
    "plt.ylabel('Dominio de la frecuencia')\n",
    "plt.hist((x[:n,-1]),bins = [100,150,200,250,300,350,400,450,500,550,600,650,700,750,800,850,900], width=70)\n",
    "df_juegodados = pd.DataFrame(x) #df para usar función mode..\n",
    "cf_prob=df_juegodados.iloc[:,-1:].mode() #df del valor más prob. en el últ. lanzamiento \n",
    "val = cf_prob[10].values[0] #valor del capital final más prob.\n",
    "\n",
    "#Curiosidad..\n",
    "unique_elements, counts_elements = np.unique(x[:n,-1], return_counts=True) #El capital final para todos los posibles valores\n",
    "unique_elements, counts_elements #probabilidades respectivas de todos los posibles valores para apreciar el histograma.."
   ]
  },
  {
   "cell_type": "markdown",
   "metadata": {
    "ExecuteTime": {
     "end_time": "2021-10-04T08:05:17.678545Z",
     "start_time": "2021-10-04T08:05:17.661590Z"
    }
   },
   "source": [
    "##### (Respuesta)"
   ]
  },
  {
   "cell_type": "code",
   "execution_count": 53,
   "metadata": {
    "ExecuteTime": {
     "end_time": "2021-10-05T15:40:46.422180Z",
     "start_time": "2021-10-05T15:40:46.404194Z"
    },
    "code_folding": []
   },
   "outputs": [
    {
     "name": "stdout",
     "output_type": "stream",
     "text": [
      "Tu capital final más probable después de 10 juegos es de: $ 500.0 y se obtendrá con una prob de: 24.95 %\n"
     ]
    }
   ],
   "source": [
    "print('Tu capital final más probable después de 10 juegos es de: $', val,\n",
    "      'y se obtendrá con una prob de:',round(((len(x[:n,-1][x[:n,-1]==500]))/n)*100,2),'%')"
   ]
  },
  {
   "cell_type": "markdown",
   "metadata": {},
   "source": [
    "#### 2.3 ¿Cuál es la probabilidad de ganar dinero?"
   ]
  },
  {
   "cell_type": "code",
   "execution_count": 54,
   "metadata": {
    "ExecuteTime": {
     "end_time": "2021-10-05T15:40:48.397863Z",
     "start_time": "2021-10-05T15:40:48.381909Z"
    },
    "code_folding": []
   },
   "outputs": [
    {
     "data": {
      "text/plain": [
       "10    \n",
       "500.0     24.95\n",
       "400.0     21.23\n",
       "600.0     19.79\n",
       "300.0     12.31\n",
       "700.0     10.88\n",
       "200.0      4.85\n",
       "800.0      3.73\n",
       "100.0      1.10\n",
       "900.0      0.93\n",
       "0.0        0.15\n",
       "1000.0     0.08\n",
       "dtype: float64"
      ]
     },
     "execution_count": 54,
     "metadata": {},
     "output_type": "execute_result"
    }
   ],
   "source": [
    "#Curiosidad..\n",
    "#Las prob. de los valores esperados en orden descendente son las sig...\n",
    "(df_juegodados.iloc[:,-1:].value_counts()/n)*100"
   ]
  },
  {
   "cell_type": "markdown",
   "metadata": {},
   "source": [
    "##### (Respuesta)"
   ]
  },
  {
   "cell_type": "code",
   "execution_count": 56,
   "metadata": {
    "ExecuteTime": {
     "end_time": "2021-10-05T15:41:22.935945Z",
     "start_time": "2021-10-05T15:41:22.916996Z"
    }
   },
   "outputs": [
    {
     "name": "stdout",
     "output_type": "stream",
     "text": [
      "La prob. de ganar dinero al final de estos 10 juegos de dados es de: 35.41 %.\n"
     ]
    }
   ],
   "source": [
    "print('La prob. de ganar dinero al final de estos 10 juegos de dados es de:',round(((len(x[:n,-1][x[:n,-1]>500])/10000)*100),2),'%.')"
   ]
  },
  {
   "cell_type": "markdown",
   "metadata": {},
   "source": [
    "## 3. (5 puntos)\n",
    "\n",
    "Se eligen **tres puntos uniformemente** al azar del perímetro de un círculo unitario. Utilice la simulación de **Monte Carlo** para calcular la **probabilidad de que los puntos formen un triángulo agudo**, ¿cuál es la **probabilidad de generar aleatoriamente triángulos agudos**?\n",
    "\n",
    "Suponga que **10.000 simulaciones son suficientes para calcular $P$**.\n",
    "\n",
    "> Ayuda: \n",
    "> 1. https://www.universoformulas.com/matematicas/trigonometria/resolucion-triangulos/\n",
    "> 2. Distancia entre un par de puntos en el eje cartesiano $$d=\\sqrt{(x_2-x_1)^2 + (y_2 - y_1)^2}$$\n",
    "> 3. Coordenadas polares $$x=R\\cos (\\theta), \\quad y=R\\sin (\\theta)$$\n",
    "> 4. https://es.wikipedia.org/wiki/Tri%C3%A1ngulos_agudos_y_obtusos"
   ]
  },
  {
   "cell_type": "code",
   "execution_count": 57,
   "metadata": {
    "ExecuteTime": {
     "end_time": "2021-10-05T15:41:28.142243Z",
     "start_time": "2021-10-05T15:41:28.130308Z"
    }
   },
   "outputs": [],
   "source": [
    "# Solución"
   ]
  },
  {
   "cell_type": "markdown",
   "metadata": {},
   "source": [
    "# 4. (5 puntos)\n",
    "\n",
    "Supongamos que estás en un **programa de juegos**, y se le da la **opción de tres puertas**: detrás de **una puerta** hay un **premio valioso**; **Detrás de las otras dos, cabras**. **Usted elige** una puerta, digamos la **No. 1**, y el **anfitrión**, que sabe lo que está detrás de las puertas, abre otra puerta, supongamos la **No. 3**, que tiene una cabra. Luego te dice: \"**¿Quieres elegir la puerta No. 2?**\" **¿Hay ventaja al cambiar la primera puerta elegida?**. Resuelva este problema **usando montecarlo** y responda a la siquiente pregunta:\n",
    "* ¿Cuál sería la **probabilidad de ganar el premio valioso si se elige cambiar la primera puerta** elegida?"
   ]
  },
  {
   "cell_type": "code",
   "execution_count": 58,
   "metadata": {
    "ExecuteTime": {
     "end_time": "2021-10-05T15:41:30.283522Z",
     "start_time": "2021-10-05T15:41:29.818798Z"
    }
   },
   "outputs": [
    {
     "data": {
      "image/png": "[encoded data removed]",
      "text/plain": [
       "<Figure size 640x480 with 1 Axes>"
      ]
     },
     "metadata": {},
     "output_type": "display_data"
    }
   ],
   "source": [
    "#np.random.seed(44) #Fijación de resultados con semilla deshabilitada\n",
    "n = 10000 #Número de simulaciones\n",
    "# Inicializar aciertos con _n puertas\n",
    "puertas_2 = 0\n",
    "puertas_3 = 0\n",
    "#Resultados de abrir las puertas #CREAR LA FUNCION PARA LLAMARLA\n",
    "for i in range(n):\n",
    "    puertas = ['cabra', 'premio', 'cabra']\n",
    "    #Cambiar los resultados\n",
    "    np.random.shuffle(puertas)\n",
    "    #Elección aleatoria\n",
    "    eleccion_3 = np.random.randint(0, 2)\n",
    "    #Eliminación de una puerta que contiene una cabra\n",
    "    cabra_X = np.random.choice([i for i in range(len(puertas)) if puertas[i] == 'cabra' and i != eleccion_3])\n",
    "    puertas_restantes = [0, 1, 2]\n",
    "    puertas_restantes.remove(eleccion_3) #Eliminación de eleccion con 3 puertas\n",
    "    puertas_restantes.remove(cabra_X) #Eliminación de cabra\n",
    "    eleccion_2 = puertas_restantes[0] #Elección resultante al tener 2 puertas\n",
    "    # Contabilizar aciertos con 3 y 2 puertas tras cambio de elección.\n",
    "    if puertas[eleccion_3] == 'premio':\n",
    "        puertas_3 += 1\n",
    "    elif puertas[eleccion_2] == 'premio':\n",
    "        puertas_2 += 1\n",
    "        \n",
    "# Histograma de probabilidades\n",
    "plt.style.use('classic')\n",
    "plt.bar(['Prob. de ganar con 3 puertas', 'Prob. de ganar por cambiar nuestra elección al quitarse una cabra.'],\\\n",
    "        [puertas_3 / n, puertas_2 / n], width=0.5)\n",
    "plt.ylabel('Probabilidad')\n",
    "plt.show()"
   ]
  },
  {
   "cell_type": "markdown",
   "metadata": {},
   "source": [
    "##### (Respuesta)"
   ]
  },
  {
   "cell_type": "code",
   "execution_count": 59,
   "metadata": {
    "ExecuteTime": {
     "end_time": "2021-10-05T15:41:34.456369Z",
     "start_time": "2021-10-05T15:41:34.444440Z"
    }
   },
   "outputs": [
    {
     "name": "stdout",
     "output_type": "stream",
     "text": [
      "La probabilidad de abrir la puerta que contiene el premio es de: 33.69 %. Sin embargo, si se elimina una puerta que contiene una cabra y se cambia de elección, la nva. prob. de ganar es de: 66.31 %. Es decir que se tiene ventaja por cambiar de elección. Nota: Estos cálculos fueron hechos con 10000 simulaciones.\n"
     ]
    }
   ],
   "source": [
    "print('La probabilidad de abrir la puerta que contiene el premio es de:', round((puertas_3 / n)*100,2),'%'\\\n",
    "      '. Sin embargo, si se elimina una puerta que contiene una cabra y se cambia de elección, la nva. prob. de ganar'\\\n",
    "      ' es de:', round((puertas_2 / n)*100,2),'%. Es decir que se tiene ventaja por cambiar de elección. Nota: Estos'\\\n",
    "      ' cálculos fueron hechos con',n,'simulaciones.')"
   ]
  },
  {
   "cell_type": "markdown",
   "metadata": {},
   "source": [
    "## Parámetros de entrega\n",
    "\n",
    "- La **solución** a este primer examen se debe realizar en un notebook de jupyter, utilizando la **sintaxis markdown** y además se deben de **reportar el código** de cómo obtuvieron los resultados de simulación (debidamente comentado y con la programación óptima como hemos venido trabajando), y con los resultados obtenidos **responder a las preguntas dadas.**\n",
    "- La fecha de entrega de este trabajo es **05/10/2021 hasta las 6 pm** y se debe de entregar a través de canvas, donde habilitaré un espacio para entrega de este Examen. Recuerden después de las 6 pm del martes se deshabilita en Canvas la entrega de la tarea, así que considérenlo para que no vayan a tener inconvenientes. Recuerden lo acordado el primer día de clase.\n",
    "- **Cada ejercicio tendrá el mismo porcentaje** y el porcentaje del **exámen** será de el **15%**."
   ]
  }
 ],
 "metadata": {
  "kernelspec": {
   "display_name": "Python 3 (ipykernel)",
   "language": "python",
   "name": "python3"
  },
  "language_info": {
   "codemirror_mode": {
    "name": "ipython",
    "version": 3
   },
   "file_extension": ".py",
   "mimetype": "text/x-python",
   "name": "python",
   "nbconvert_exporter": "python",
   "pygments_lexer": "ipython3",
   "version": "3.8.12"
  },
  "latex_envs": {
   "LaTeX_envs_menu_present": true,
   "autoclose": false,
   "autocomplete": true,
   "bibliofile": "biblio.bib",
   "cite_by": "apalike",
   "current_citInitial": 1,
   "eqLabelWithNumbers": true,
   "eqNumInitial": 1,
   "hotkeys": {
    "equation": "Ctrl-E",
    "itemize": "Ctrl-I"
   },
   "labels_anchors": false,
   "latex_user_defs": false,
   "report_style_numbering": false,
   "user_envs_cfg": false
  }
 },
 "nbformat": 4,
 "nbformat_minor": 4
}
