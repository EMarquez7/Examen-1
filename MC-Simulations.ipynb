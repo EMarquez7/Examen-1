{
 "cells": [
  {
   "attachments": {},
   "cell_type": "markdown",
   "metadata": {},
   "source": [
    "### <font color='white'> Simulation Processes Course. <font>\n",
    "\n",
    "**Made by:**\n",
    "[EstebanMqz](https://github.com/EstebanMqz)\n",
    "\n",
    "**Date:** September 27, 2021.\n",
    "\n",
    "**Repository**: https://github.com/EstebanMqz/MonteCarlo-Simulations\n",
    "<font>\n",
    "<br><br>\n",
    "<font color= 'orange'>Simulations. "
   ]
  },
  {
   "attachments": {},
   "cell_type": "markdown",
   "metadata": {},
   "source": [
    "##### <span style='color:red'> Project Creators:</span> Create requirements.txt file.<br>"
   ]
  },
  {
   "cell_type": "code",
   "execution_count": 58,
   "metadata": {},
   "outputs": [],
   "source": [
    "#Import dependencies\n",
    "import functions as fn\n",
    "import data as dt\n",
    "import visualizations as vs\n",
    "import main\n",
    "import pandas as pd\n",
    "import numpy as np\n",
    "import matplotlib.pyplot as plt"
   ]
  },
  {
   "cell_type": "code",
   "execution_count": 2,
   "metadata": {},
   "outputs": [
    {
     "name": "stdout",
     "output_type": "stream",
     "text": [
      "requirements.txt file is created, it's in user's local path: c:\\Users\\Esteban\\Desktop\\Projects\\Github\\Repos_To-do\\Languages\\Python\\Fin_Sim\\Simulation_Course_Exams\\MonteCarlo-Simulations\\requirements.txt\n"
     ]
    }
   ],
   "source": [
    "docstring = \"\"\"\n",
    "# -- ------------------------------------------------------------------------------------------------------------------------   -- # \n",
    "# -- project: MonteCarlo-Simulations                                                                                            -- # \n",
    "# -- script: requirements.txt: txt file to download Python modules for execution                                                -- # \n",
    "# -- author: EstebanMqz                                                                                                         -- # \n",
    "# -- license: CC BY 3.0                                                                                                         -- # \n",
    "# -- repository: https://github.com/EstebanMqz/MonteCarlo-Simulations/blob/main/requirements.txt                                -- # \n",
    "# -- ------------------------------------------------------------------------------------------------------------------------   -- # \n",
    "\\n\n",
    "\"\"\"\n",
    "fn.get_requirements(docstring)"
   ]
  },
  {
   "attachments": {},
   "cell_type": "markdown",
   "metadata": {},
   "source": [
    "##### <span style='color:green'> Project Users:</span> Install libraries in requirements.txt file.<br>"
   ]
  },
  {
   "cell_type": "code",
   "execution_count": 3,
   "metadata": {},
   "outputs": [
    {
     "name": "stdout",
     "output_type": "stream",
     "text": [
      "Requirements installed.\n",
      "\n",
      "# -- ------------------------------------------------------------------------------------------------------------------------   -- # \n",
      "# -- project: MonteCarlo-Simulations                                                                                            -- # \n",
      "# -- script: requirements.txt: txt file to download Python modules for execution                                                -- # \n",
      "# -- author: EstebanMqz                                                                                                         -- # \n",
      "# -- license: CC BY 3.0                                                                                                         -- # \n",
      "# -- repository: https://github.com/EstebanMqz/MonteCarlo-Simulations/blob/main/requirements.txt                                -- # \n",
      "# -- ------------------------------------------------------------------------------------------------------------------------   -- # \n",
      "\n",
      "\n",
      "numpy >= 1.23.5 \n",
      "pandas >= 1.4.4 \n",
      "matplotlib >= 3.5.3 \n",
      "jupyter >= 1.0.0\n"
     ]
    }
   ],
   "source": [
    "dt.library_install(\"requirements.txt\")"
   ]
  },
  {
   "attachments": {},
   "cell_type": "markdown",
   "metadata": {},
   "source": [
    "#### **Game 1:** *Simulations of 10,000 Flips for 100 coin tosses games each with $50 Capital*"
   ]
  },
  {
   "attachments": {},
   "cell_type": "markdown",
   "metadata": {},
   "source": [
    "Simulations must be $n_{sim} \\geq 10000$"
   ]
  },
  {
   "attachments": {},
   "cell_type": "markdown",
   "metadata": {},
   "source": [
    "#### 1. Tossing a Coin Game \n",
    "\n",
    "There's a game with the following rules in a Casino:<br>\n",
    "1. Repeatedly toss a fair coin to win a prize until the difference between Heads and Tails is 3.\n",
    "2. $\\$1$ is the cost for each toss made, and the prize is $\\$8$. \n",
    "\n",
    "Let's assume we plan to toss a coin 100 times and we are not going to risk more than $\\$50$.<br>\n",
    "We want to know not only the most prob. outcome but also: <br><br>\n",
    "*¿How much we are expected to have for every single toss?* \n",
    "\n",
    "#### <span style='color:lightblue'> MonteCarlo Simulations: </span><br>"
   ]
  },
  {
   "cell_type": "code",
   "execution_count": 6,
   "metadata": {},
   "outputs": [
    {
     "data": {
      "text/html": [
       "<div>\n",
       "<style scoped>\n",
       "    .dataframe tbody tr th:only-of-type {\n",
       "        vertical-align: middle;\n",
       "    }\n",
       "\n",
       "    .dataframe tbody tr th {\n",
       "        vertical-align: top;\n",
       "    }\n",
       "\n",
       "    .dataframe thead th {\n",
       "        text-align: right;\n",
       "    }\n",
       "</style>\n",
       "<table border=\"1\" class=\"dataframe\">\n",
       "  <thead>\n",
       "    <tr style=\"text-align: right;\">\n",
       "      <th>Sim</th>\n",
       "      <th>0</th>\n",
       "      <th>1</th>\n",
       "      <th>2</th>\n",
       "      <th>3</th>\n",
       "      <th>4</th>\n",
       "      <th>5</th>\n",
       "      <th>6</th>\n",
       "      <th>7</th>\n",
       "      <th>8</th>\n",
       "      <th>9</th>\n",
       "      <th>...</th>\n",
       "      <th>190</th>\n",
       "      <th>191</th>\n",
       "      <th>192</th>\n",
       "      <th>193</th>\n",
       "      <th>194</th>\n",
       "      <th>195</th>\n",
       "      <th>196</th>\n",
       "      <th>197</th>\n",
       "      <th>198</th>\n",
       "      <th>199</th>\n",
       "    </tr>\n",
       "  </thead>\n",
       "  <tbody>\n",
       "    <tr>\n",
       "      <th>1</th>\n",
       "      <td>50.0</td>\n",
       "      <td>50.0</td>\n",
       "      <td>50.0</td>\n",
       "      <td>50.0</td>\n",
       "      <td>50.0</td>\n",
       "      <td>50.0</td>\n",
       "      <td>50.0</td>\n",
       "      <td>50.0</td>\n",
       "      <td>50.0</td>\n",
       "      <td>50.0</td>\n",
       "      <td>...</td>\n",
       "      <td>50.0</td>\n",
       "      <td>50.0</td>\n",
       "      <td>50.0</td>\n",
       "      <td>50.0</td>\n",
       "      <td>50.0</td>\n",
       "      <td>50.0</td>\n",
       "      <td>50.0</td>\n",
       "      <td>50.0</td>\n",
       "      <td>50.0</td>\n",
       "      <td>50.0</td>\n",
       "    </tr>\n",
       "    <tr>\n",
       "      <th>2</th>\n",
       "      <td>49.0</td>\n",
       "      <td>49.0</td>\n",
       "      <td>49.0</td>\n",
       "      <td>49.0</td>\n",
       "      <td>49.0</td>\n",
       "      <td>49.0</td>\n",
       "      <td>49.0</td>\n",
       "      <td>49.0</td>\n",
       "      <td>49.0</td>\n",
       "      <td>49.0</td>\n",
       "      <td>...</td>\n",
       "      <td>49.0</td>\n",
       "      <td>49.0</td>\n",
       "      <td>49.0</td>\n",
       "      <td>49.0</td>\n",
       "      <td>49.0</td>\n",
       "      <td>49.0</td>\n",
       "      <td>49.0</td>\n",
       "      <td>49.0</td>\n",
       "      <td>49.0</td>\n",
       "      <td>49.0</td>\n",
       "    </tr>\n",
       "    <tr>\n",
       "      <th>3</th>\n",
       "      <td>48.0</td>\n",
       "      <td>48.0</td>\n",
       "      <td>48.0</td>\n",
       "      <td>48.0</td>\n",
       "      <td>48.0</td>\n",
       "      <td>48.0</td>\n",
       "      <td>48.0</td>\n",
       "      <td>48.0</td>\n",
       "      <td>48.0</td>\n",
       "      <td>48.0</td>\n",
       "      <td>...</td>\n",
       "      <td>48.0</td>\n",
       "      <td>48.0</td>\n",
       "      <td>48.0</td>\n",
       "      <td>48.0</td>\n",
       "      <td>48.0</td>\n",
       "      <td>48.0</td>\n",
       "      <td>48.0</td>\n",
       "      <td>48.0</td>\n",
       "      <td>48.0</td>\n",
       "      <td>48.0</td>\n",
       "    </tr>\n",
       "    <tr>\n",
       "      <th>4</th>\n",
       "      <td>47.0</td>\n",
       "      <td>47.0</td>\n",
       "      <td>47.0</td>\n",
       "      <td>47.0</td>\n",
       "      <td>47.0</td>\n",
       "      <td>47.0</td>\n",
       "      <td>47.0</td>\n",
       "      <td>47.0</td>\n",
       "      <td>47.0</td>\n",
       "      <td>47.0</td>\n",
       "      <td>...</td>\n",
       "      <td>47.0</td>\n",
       "      <td>47.0</td>\n",
       "      <td>47.0</td>\n",
       "      <td>47.0</td>\n",
       "      <td>47.0</td>\n",
       "      <td>47.0</td>\n",
       "      <td>47.0</td>\n",
       "      <td>47.0</td>\n",
       "      <td>47.0</td>\n",
       "      <td>47.0</td>\n",
       "    </tr>\n",
       "    <tr>\n",
       "      <th>5</th>\n",
       "      <td>46.0</td>\n",
       "      <td>46.0</td>\n",
       "      <td>46.0</td>\n",
       "      <td>46.0</td>\n",
       "      <td>46.0</td>\n",
       "      <td>55.0</td>\n",
       "      <td>55.0</td>\n",
       "      <td>46.0</td>\n",
       "      <td>46.0</td>\n",
       "      <td>46.0</td>\n",
       "      <td>...</td>\n",
       "      <td>46.0</td>\n",
       "      <td>46.0</td>\n",
       "      <td>46.0</td>\n",
       "      <td>46.0</td>\n",
       "      <td>46.0</td>\n",
       "      <td>46.0</td>\n",
       "      <td>46.0</td>\n",
       "      <td>55.0</td>\n",
       "      <td>46.0</td>\n",
       "      <td>46.0</td>\n",
       "    </tr>\n",
       "    <tr>\n",
       "      <th>6</th>\n",
       "      <td>45.0</td>\n",
       "      <td>45.0</td>\n",
       "      <td>45.0</td>\n",
       "      <td>45.0</td>\n",
       "      <td>45.0</td>\n",
       "      <td>54.0</td>\n",
       "      <td>54.0</td>\n",
       "      <td>45.0</td>\n",
       "      <td>45.0</td>\n",
       "      <td>45.0</td>\n",
       "      <td>...</td>\n",
       "      <td>45.0</td>\n",
       "      <td>45.0</td>\n",
       "      <td>45.0</td>\n",
       "      <td>45.0</td>\n",
       "      <td>45.0</td>\n",
       "      <td>45.0</td>\n",
       "      <td>45.0</td>\n",
       "      <td>54.0</td>\n",
       "      <td>45.0</td>\n",
       "      <td>45.0</td>\n",
       "    </tr>\n",
       "    <tr>\n",
       "      <th>7</th>\n",
       "      <td>44.0</td>\n",
       "      <td>44.0</td>\n",
       "      <td>44.0</td>\n",
       "      <td>44.0</td>\n",
       "      <td>53.0</td>\n",
       "      <td>53.0</td>\n",
       "      <td>53.0</td>\n",
       "      <td>44.0</td>\n",
       "      <td>44.0</td>\n",
       "      <td>44.0</td>\n",
       "      <td>...</td>\n",
       "      <td>44.0</td>\n",
       "      <td>44.0</td>\n",
       "      <td>44.0</td>\n",
       "      <td>44.0</td>\n",
       "      <td>53.0</td>\n",
       "      <td>44.0</td>\n",
       "      <td>44.0</td>\n",
       "      <td>53.0</td>\n",
       "      <td>44.0</td>\n",
       "      <td>44.0</td>\n",
       "    </tr>\n",
       "    <tr>\n",
       "      <th>8</th>\n",
       "      <td>43.0</td>\n",
       "      <td>43.0</td>\n",
       "      <td>43.0</td>\n",
       "      <td>43.0</td>\n",
       "      <td>52.0</td>\n",
       "      <td>52.0</td>\n",
       "      <td>52.0</td>\n",
       "      <td>43.0</td>\n",
       "      <td>43.0</td>\n",
       "      <td>43.0</td>\n",
       "      <td>...</td>\n",
       "      <td>43.0</td>\n",
       "      <td>43.0</td>\n",
       "      <td>43.0</td>\n",
       "      <td>43.0</td>\n",
       "      <td>52.0</td>\n",
       "      <td>43.0</td>\n",
       "      <td>43.0</td>\n",
       "      <td>52.0</td>\n",
       "      <td>43.0</td>\n",
       "      <td>43.0</td>\n",
       "    </tr>\n",
       "  </tbody>\n",
       "</table>\n",
       "<p>8 rows × 200 columns</p>\n",
       "</div>"
      ],
      "text/plain": [
       "Sim   0     1     2     3     4     5     6     7     8     9    ...   190  \\\n",
       "1    50.0  50.0  50.0  50.0  50.0  50.0  50.0  50.0  50.0  50.0  ...  50.0   \n",
       "2    49.0  49.0  49.0  49.0  49.0  49.0  49.0  49.0  49.0  49.0  ...  49.0   \n",
       "3    48.0  48.0  48.0  48.0  48.0  48.0  48.0  48.0  48.0  48.0  ...  48.0   \n",
       "4    47.0  47.0  47.0  47.0  47.0  47.0  47.0  47.0  47.0  47.0  ...  47.0   \n",
       "5    46.0  46.0  46.0  46.0  46.0  55.0  55.0  46.0  46.0  46.0  ...  46.0   \n",
       "6    45.0  45.0  45.0  45.0  45.0  54.0  54.0  45.0  45.0  45.0  ...  45.0   \n",
       "7    44.0  44.0  44.0  44.0  53.0  53.0  53.0  44.0  44.0  44.0  ...  44.0   \n",
       "8    43.0  43.0  43.0  43.0  52.0  52.0  52.0  43.0  43.0  43.0  ...  43.0   \n",
       "\n",
       "Sim   191   192   193   194   195   196   197   198   199  \n",
       "1    50.0  50.0  50.0  50.0  50.0  50.0  50.0  50.0  50.0  \n",
       "2    49.0  49.0  49.0  49.0  49.0  49.0  49.0  49.0  49.0  \n",
       "3    48.0  48.0  48.0  48.0  48.0  48.0  48.0  48.0  48.0  \n",
       "4    47.0  47.0  47.0  47.0  47.0  47.0  47.0  47.0  47.0  \n",
       "5    46.0  46.0  46.0  46.0  46.0  46.0  55.0  46.0  46.0  \n",
       "6    45.0  45.0  45.0  45.0  45.0  45.0  54.0  45.0  45.0  \n",
       "7    44.0  44.0  44.0  53.0  44.0  44.0  53.0  44.0  44.0  \n",
       "8    43.0  43.0  43.0  52.0  43.0  43.0  52.0  43.0  43.0  \n",
       "\n",
       "[8 rows x 200 columns]"
      ]
     },
     "execution_count": 6,
     "metadata": {},
     "output_type": "execute_result"
    }
   ],
   "source": [
    "initial_capital, bet, n_games, prize, sim  = 50, 1, 100, 8, 200\n",
    "df1 = dt.coin_game_sim(initial_capital, bet, n_games, prize, 0, sim).T\n",
    "df1.head(8)"
   ]
  },
  {
   "cell_type": "code",
   "execution_count": 7,
   "metadata": {},
   "outputs": [
    {
     "data": {
      "text/html": [
       "<div>\n",
       "<style scoped>\n",
       "    .dataframe tbody tr th:only-of-type {\n",
       "        vertical-align: middle;\n",
       "    }\n",
       "\n",
       "    .dataframe tbody tr th {\n",
       "        vertical-align: top;\n",
       "    }\n",
       "\n",
       "    .dataframe thead th {\n",
       "        text-align: right;\n",
       "    }\n",
       "</style>\n",
       "<table border=\"1\" class=\"dataframe\">\n",
       "  <thead>\n",
       "    <tr style=\"text-align: right;\">\n",
       "      <th>Sim</th>\n",
       "      <th>0</th>\n",
       "      <th>1</th>\n",
       "      <th>2</th>\n",
       "      <th>3</th>\n",
       "      <th>4</th>\n",
       "      <th>5</th>\n",
       "      <th>6</th>\n",
       "      <th>7</th>\n",
       "      <th>8</th>\n",
       "      <th>9</th>\n",
       "      <th>...</th>\n",
       "      <th>190</th>\n",
       "      <th>191</th>\n",
       "      <th>192</th>\n",
       "      <th>193</th>\n",
       "      <th>194</th>\n",
       "      <th>195</th>\n",
       "      <th>196</th>\n",
       "      <th>197</th>\n",
       "      <th>198</th>\n",
       "      <th>199</th>\n",
       "    </tr>\n",
       "  </thead>\n",
       "  <tbody>\n",
       "    <tr>\n",
       "      <th>93</th>\n",
       "      <td>66.0</td>\n",
       "      <td>48.0</td>\n",
       "      <td>57.0</td>\n",
       "      <td>39.0</td>\n",
       "      <td>21.0</td>\n",
       "      <td>21.0</td>\n",
       "      <td>39.0</td>\n",
       "      <td>21.0</td>\n",
       "      <td>21.0</td>\n",
       "      <td>57.0</td>\n",
       "      <td>...</td>\n",
       "      <td>48.0</td>\n",
       "      <td>12.0</td>\n",
       "      <td>66.0</td>\n",
       "      <td>21.0</td>\n",
       "      <td>57.0</td>\n",
       "      <td>-6.0</td>\n",
       "      <td>57.0</td>\n",
       "      <td>48.0</td>\n",
       "      <td>39.0</td>\n",
       "      <td>30.0</td>\n",
       "    </tr>\n",
       "    <tr>\n",
       "      <th>94</th>\n",
       "      <td>65.0</td>\n",
       "      <td>47.0</td>\n",
       "      <td>56.0</td>\n",
       "      <td>38.0</td>\n",
       "      <td>20.0</td>\n",
       "      <td>20.0</td>\n",
       "      <td>38.0</td>\n",
       "      <td>20.0</td>\n",
       "      <td>20.0</td>\n",
       "      <td>56.0</td>\n",
       "      <td>...</td>\n",
       "      <td>47.0</td>\n",
       "      <td>11.0</td>\n",
       "      <td>65.0</td>\n",
       "      <td>20.0</td>\n",
       "      <td>56.0</td>\n",
       "      <td>-7.0</td>\n",
       "      <td>56.0</td>\n",
       "      <td>47.0</td>\n",
       "      <td>38.0</td>\n",
       "      <td>29.0</td>\n",
       "    </tr>\n",
       "    <tr>\n",
       "      <th>95</th>\n",
       "      <td>64.0</td>\n",
       "      <td>55.0</td>\n",
       "      <td>55.0</td>\n",
       "      <td>37.0</td>\n",
       "      <td>19.0</td>\n",
       "      <td>19.0</td>\n",
       "      <td>37.0</td>\n",
       "      <td>19.0</td>\n",
       "      <td>19.0</td>\n",
       "      <td>64.0</td>\n",
       "      <td>...</td>\n",
       "      <td>55.0</td>\n",
       "      <td>10.0</td>\n",
       "      <td>73.0</td>\n",
       "      <td>19.0</td>\n",
       "      <td>55.0</td>\n",
       "      <td>-8.0</td>\n",
       "      <td>55.0</td>\n",
       "      <td>46.0</td>\n",
       "      <td>46.0</td>\n",
       "      <td>28.0</td>\n",
       "    </tr>\n",
       "    <tr>\n",
       "      <th>96</th>\n",
       "      <td>63.0</td>\n",
       "      <td>54.0</td>\n",
       "      <td>54.0</td>\n",
       "      <td>36.0</td>\n",
       "      <td>18.0</td>\n",
       "      <td>18.0</td>\n",
       "      <td>36.0</td>\n",
       "      <td>18.0</td>\n",
       "      <td>18.0</td>\n",
       "      <td>63.0</td>\n",
       "      <td>...</td>\n",
       "      <td>54.0</td>\n",
       "      <td>9.0</td>\n",
       "      <td>72.0</td>\n",
       "      <td>18.0</td>\n",
       "      <td>54.0</td>\n",
       "      <td>-9.0</td>\n",
       "      <td>54.0</td>\n",
       "      <td>45.0</td>\n",
       "      <td>45.0</td>\n",
       "      <td>27.0</td>\n",
       "    </tr>\n",
       "    <tr>\n",
       "      <th>97</th>\n",
       "      <td>62.0</td>\n",
       "      <td>53.0</td>\n",
       "      <td>53.0</td>\n",
       "      <td>35.0</td>\n",
       "      <td>17.0</td>\n",
       "      <td>17.0</td>\n",
       "      <td>35.0</td>\n",
       "      <td>17.0</td>\n",
       "      <td>17.0</td>\n",
       "      <td>62.0</td>\n",
       "      <td>...</td>\n",
       "      <td>53.0</td>\n",
       "      <td>17.0</td>\n",
       "      <td>71.0</td>\n",
       "      <td>17.0</td>\n",
       "      <td>62.0</td>\n",
       "      <td>-10.0</td>\n",
       "      <td>53.0</td>\n",
       "      <td>44.0</td>\n",
       "      <td>44.0</td>\n",
       "      <td>35.0</td>\n",
       "    </tr>\n",
       "    <tr>\n",
       "      <th>98</th>\n",
       "      <td>61.0</td>\n",
       "      <td>52.0</td>\n",
       "      <td>52.0</td>\n",
       "      <td>34.0</td>\n",
       "      <td>16.0</td>\n",
       "      <td>16.0</td>\n",
       "      <td>34.0</td>\n",
       "      <td>16.0</td>\n",
       "      <td>16.0</td>\n",
       "      <td>61.0</td>\n",
       "      <td>...</td>\n",
       "      <td>52.0</td>\n",
       "      <td>16.0</td>\n",
       "      <td>70.0</td>\n",
       "      <td>16.0</td>\n",
       "      <td>61.0</td>\n",
       "      <td>-11.0</td>\n",
       "      <td>52.0</td>\n",
       "      <td>43.0</td>\n",
       "      <td>43.0</td>\n",
       "      <td>34.0</td>\n",
       "    </tr>\n",
       "    <tr>\n",
       "      <th>99</th>\n",
       "      <td>60.0</td>\n",
       "      <td>51.0</td>\n",
       "      <td>51.0</td>\n",
       "      <td>33.0</td>\n",
       "      <td>24.0</td>\n",
       "      <td>15.0</td>\n",
       "      <td>33.0</td>\n",
       "      <td>15.0</td>\n",
       "      <td>15.0</td>\n",
       "      <td>60.0</td>\n",
       "      <td>...</td>\n",
       "      <td>51.0</td>\n",
       "      <td>15.0</td>\n",
       "      <td>69.0</td>\n",
       "      <td>15.0</td>\n",
       "      <td>60.0</td>\n",
       "      <td>-12.0</td>\n",
       "      <td>60.0</td>\n",
       "      <td>42.0</td>\n",
       "      <td>42.0</td>\n",
       "      <td>33.0</td>\n",
       "    </tr>\n",
       "    <tr>\n",
       "      <th>100</th>\n",
       "      <td>59.0</td>\n",
       "      <td>50.0</td>\n",
       "      <td>50.0</td>\n",
       "      <td>32.0</td>\n",
       "      <td>23.0</td>\n",
       "      <td>14.0</td>\n",
       "      <td>32.0</td>\n",
       "      <td>14.0</td>\n",
       "      <td>14.0</td>\n",
       "      <td>59.0</td>\n",
       "      <td>...</td>\n",
       "      <td>50.0</td>\n",
       "      <td>14.0</td>\n",
       "      <td>68.0</td>\n",
       "      <td>14.0</td>\n",
       "      <td>59.0</td>\n",
       "      <td>-13.0</td>\n",
       "      <td>59.0</td>\n",
       "      <td>41.0</td>\n",
       "      <td>41.0</td>\n",
       "      <td>32.0</td>\n",
       "    </tr>\n",
       "  </tbody>\n",
       "</table>\n",
       "<p>8 rows × 200 columns</p>\n",
       "</div>"
      ],
      "text/plain": [
       "Sim   0     1     2     3     4     5     6     7     8     9    ...   190  \\\n",
       "93   66.0  48.0  57.0  39.0  21.0  21.0  39.0  21.0  21.0  57.0  ...  48.0   \n",
       "94   65.0  47.0  56.0  38.0  20.0  20.0  38.0  20.0  20.0  56.0  ...  47.0   \n",
       "95   64.0  55.0  55.0  37.0  19.0  19.0  37.0  19.0  19.0  64.0  ...  55.0   \n",
       "96   63.0  54.0  54.0  36.0  18.0  18.0  36.0  18.0  18.0  63.0  ...  54.0   \n",
       "97   62.0  53.0  53.0  35.0  17.0  17.0  35.0  17.0  17.0  62.0  ...  53.0   \n",
       "98   61.0  52.0  52.0  34.0  16.0  16.0  34.0  16.0  16.0  61.0  ...  52.0   \n",
       "99   60.0  51.0  51.0  33.0  24.0  15.0  33.0  15.0  15.0  60.0  ...  51.0   \n",
       "100  59.0  50.0  50.0  32.0  23.0  14.0  32.0  14.0  14.0  59.0  ...  50.0   \n",
       "\n",
       "Sim   191   192   193   194   195   196   197   198   199  \n",
       "93   12.0  66.0  21.0  57.0  -6.0  57.0  48.0  39.0  30.0  \n",
       "94   11.0  65.0  20.0  56.0  -7.0  56.0  47.0  38.0  29.0  \n",
       "95   10.0  73.0  19.0  55.0  -8.0  55.0  46.0  46.0  28.0  \n",
       "96    9.0  72.0  18.0  54.0  -9.0  54.0  45.0  45.0  27.0  \n",
       "97   17.0  71.0  17.0  62.0 -10.0  53.0  44.0  44.0  35.0  \n",
       "98   16.0  70.0  16.0  61.0 -11.0  52.0  43.0  43.0  34.0  \n",
       "99   15.0  69.0  15.0  60.0 -12.0  60.0  42.0  42.0  33.0  \n",
       "100  14.0  68.0  14.0  59.0 -13.0  59.0  41.0  41.0  32.0  \n",
       "\n",
       "[8 rows x 200 columns]"
      ]
     },
     "execution_count": 7,
     "metadata": {},
     "output_type": "execute_result"
    }
   ],
   "source": [
    "df1.tail(8)"
   ]
  },
  {
   "attachments": {},
   "cell_type": "markdown",
   "metadata": {},
   "source": [
    "After our simulations we know that our capital is going to be $Capital_{{n}_{sim}}\\approx \\mu_{M.C}$"
   ]
  },
  {
   "cell_type": "code",
   "execution_count": 8,
   "metadata": {},
   "outputs": [
    {
     "name": "stdout",
     "output_type": "stream",
     "text": [
      "Expected ROI ≈ -0.2889 , Expected Value ≈ $ 35.555\n"
     ]
    },
    {
     "data": {
      "text/html": [
       "<div>\n",
       "<style scoped>\n",
       "    .dataframe tbody tr th:only-of-type {\n",
       "        vertical-align: middle;\n",
       "    }\n",
       "\n",
       "    .dataframe tbody tr th {\n",
       "        vertical-align: top;\n",
       "    }\n",
       "\n",
       "    .dataframe thead th {\n",
       "        text-align: right;\n",
       "    }\n",
       "</style>\n",
       "<table border=\"1\" class=\"dataframe\">\n",
       "  <thead>\n",
       "    <tr style=\"text-align: right;\">\n",
       "      <th></th>\n",
       "      <th>E (V) : µ</th>\n",
       "    </tr>\n",
       "    <tr>\n",
       "      <th>Toss No°</th>\n",
       "      <th></th>\n",
       "    </tr>\n",
       "  </thead>\n",
       "  <tbody>\n",
       "    <tr>\n",
       "      <th>93</th>\n",
       "      <td>37.830</td>\n",
       "    </tr>\n",
       "    <tr>\n",
       "      <th>94</th>\n",
       "      <td>36.830</td>\n",
       "    </tr>\n",
       "    <tr>\n",
       "      <th>95</th>\n",
       "      <td>37.540</td>\n",
       "    </tr>\n",
       "    <tr>\n",
       "      <th>96</th>\n",
       "      <td>36.540</td>\n",
       "    </tr>\n",
       "    <tr>\n",
       "      <th>97</th>\n",
       "      <td>37.205</td>\n",
       "    </tr>\n",
       "    <tr>\n",
       "      <th>98</th>\n",
       "      <td>36.205</td>\n",
       "    </tr>\n",
       "    <tr>\n",
       "      <th>99</th>\n",
       "      <td>36.555</td>\n",
       "    </tr>\n",
       "    <tr>\n",
       "      <th>100</th>\n",
       "      <td>35.555</td>\n",
       "    </tr>\n",
       "  </tbody>\n",
       "</table>\n",
       "</div>"
      ],
      "text/plain": [
       "          E (V) : µ\n",
       "Toss No°           \n",
       "93           37.830\n",
       "94           36.830\n",
       "95           37.540\n",
       "96           36.540\n",
       "97           37.205\n",
       "98           36.205\n",
       "99           36.555\n",
       "100          35.555"
      ]
     },
     "execution_count": 8,
     "metadata": {},
     "output_type": "execute_result"
    }
   ],
   "source": [
    "E_V1=pd.DataFrame(df1.T.mean(), columns=['E (V) : µ'])\n",
    "E_V1.index.name = 'Toss No°'\n",
    "\n",
    "print(\"Expected ROI ≈\", round((E_V1.iloc[-1][0] / E_V1.iloc[0][0]) - 1, 4), ', Expected Value ≈ $', E_V1.iloc[-1][0])\n",
    "E_V1.tail(8)"
   ]
  },
  {
   "cell_type": "code",
   "execution_count": 9,
   "metadata": {},
   "outputs": [
    {
     "data": {
      "image/png": "[encoded data removed]",
      "text/plain": [
       "<Figure size 1296x720 with 1 Axes>"
      ]
     },
     "metadata": {},
     "output_type": "display_data"
    }
   ],
   "source": [
    "vs.MC_plot(df1, E_V1, \"Toss No°\", \"Capital\", E_V1.iloc[0][0], E_V1.iloc[-1][0], sim)"
   ]
  },
  {
   "attachments": {},
   "cell_type": "markdown",
   "metadata": {},
   "source": [
    "Those simulations resulted in a $f_{capital} \\geq$ than $i_{capital}$"
   ]
  },
  {
   "attachments": {},
   "cell_type": "markdown",
   "metadata": {},
   "source": [
    "*Probabilities:*"
   ]
  },
  {
   "cell_type": "code",
   "execution_count": 60,
   "metadata": {},
   "outputs": [
    {
     "data": {
      "text/html": [
       "<div>\n",
       "<style scoped>\n",
       "    .dataframe tbody tr th:only-of-type {\n",
       "        vertical-align: middle;\n",
       "    }\n",
       "\n",
       "    .dataframe tbody tr th {\n",
       "        vertical-align: top;\n",
       "    }\n",
       "\n",
       "    .dataframe thead th {\n",
       "        text-align: right;\n",
       "    }\n",
       "</style>\n",
       "<table border=\"1\" class=\"dataframe\">\n",
       "  <thead>\n",
       "    <tr style=\"text-align: right;\">\n",
       "      <th></th>\n",
       "      <th>frequency</th>\n",
       "    </tr>\n",
       "    <tr>\n",
       "      <th>Wins</th>\n",
       "      <th></th>\n",
       "    </tr>\n",
       "  </thead>\n",
       "  <tbody>\n",
       "    <tr>\n",
       "      <th>3</th>\n",
       "      <td>1</td>\n",
       "    </tr>\n",
       "    <tr>\n",
       "      <th>4</th>\n",
       "      <td>3</td>\n",
       "    </tr>\n",
       "    <tr>\n",
       "      <th>5</th>\n",
       "      <td>4</td>\n",
       "    </tr>\n",
       "    <tr>\n",
       "      <th>6</th>\n",
       "      <td>12</td>\n",
       "    </tr>\n",
       "    <tr>\n",
       "      <th>7</th>\n",
       "      <td>25</td>\n",
       "    </tr>\n",
       "    <tr>\n",
       "      <th>8</th>\n",
       "      <td>21</td>\n",
       "    </tr>\n",
       "    <tr>\n",
       "      <th>9</th>\n",
       "      <td>39</td>\n",
       "    </tr>\n",
       "    <tr>\n",
       "      <th>10</th>\n",
       "      <td>29</td>\n",
       "    </tr>\n",
       "    <tr>\n",
       "      <th>11</th>\n",
       "      <td>28</td>\n",
       "    </tr>\n",
       "    <tr>\n",
       "      <th>12</th>\n",
       "      <td>21</td>\n",
       "    </tr>\n",
       "    <tr>\n",
       "      <th>13</th>\n",
       "      <td>10</td>\n",
       "    </tr>\n",
       "    <tr>\n",
       "      <th>14</th>\n",
       "      <td>7</td>\n",
       "    </tr>\n",
       "  </tbody>\n",
       "</table>\n",
       "</div>"
      ],
      "text/plain": [
       "      frequency\n",
       "Wins           \n",
       "3             1\n",
       "4             3\n",
       "5             4\n",
       "6            12\n",
       "7            25\n",
       "8            21\n",
       "9            39\n",
       "10           29\n",
       "11           28\n",
       "12           21\n",
       "13           10\n",
       "14            7"
      ]
     },
     "execution_count": 60,
     "metadata": {},
     "output_type": "execute_result"
    }
   ],
   "source": [
    "#Tosses taken to win\n",
    "unique, counts = np.unique((df1.diff()==8).sum(), return_counts=True)\n",
    "df1_tosses=pd.DataFrame({'Wins': unique, 'frequency': counts}).set_index('Wins')\n",
    "df1_tosses"
   ]
  },
  {
   "attachments": {},
   "cell_type": "markdown",
   "metadata": {},
   "source": [
    "Therefore $P(F_{capital}\\geq i_{capital})$:"
   ]
  },
  {
   "cell_type": "code",
   "execution_count": 71,
   "metadata": {},
   "outputs": [
    {
     "data": {
      "text/html": [
       "<div>\n",
       "<style scoped>\n",
       "    .dataframe tbody tr th:only-of-type {\n",
       "        vertical-align: middle;\n",
       "    }\n",
       "\n",
       "    .dataframe tbody tr th {\n",
       "        vertical-align: top;\n",
       "    }\n",
       "\n",
       "    .dataframe thead th {\n",
       "        text-align: right;\n",
       "    }\n",
       "</style>\n",
       "<table border=\"1\" class=\"dataframe\">\n",
       "  <thead>\n",
       "    <tr style=\"text-align: right;\">\n",
       "      <th></th>\n",
       "      <th>Prob</th>\n",
       "    </tr>\n",
       "  </thead>\n",
       "  <tbody>\n",
       "    <tr>\n",
       "      <th>Win</th>\n",
       "      <td>0.19</td>\n",
       "    </tr>\n",
       "    <tr>\n",
       "      <th>Lose</th>\n",
       "      <td>0.81</td>\n",
       "    </tr>\n",
       "  </tbody>\n",
       "</table>\n",
       "</div>"
      ],
      "text/plain": [
       "      Prob\n",
       "Win   0.19\n",
       "Lose  0.81"
      ]
     },
     "execution_count": 71,
     "metadata": {},
     "output_type": "execute_result"
    }
   ],
   "source": [
    "#Obtain which df1.iloc[-1] are greater than initial_capital\n",
    "FVG = df1.iloc[-1][df1.iloc[-1] > initial_capital]\n",
    "#Make a dataframe with 2 rows and 1 column\n",
    "WL1 = pd.DataFrame([FVG.count()/sim, 1-(FVG.count()/sim)], index=['Win', 'Lose'], columns=['Prob'])\n",
    "WL1"
   ]
  },
  {
   "attachments": {},
   "cell_type": "markdown",
   "metadata": {},
   "source": [
    "The tosses taken to win were typically $n_{tosses}\\approx \\mu_{M.C}$."
   ]
  },
  {
   "cell_type": "code",
   "execution_count": 72,
   "metadata": {},
   "outputs": [
    {
     "data": {
      "image/png": "[encoded data removed]",
      "text/plain": [
       "<Figure size 864x576 with 1 Axes>"
      ]
     },
     "metadata": {},
     "output_type": "display_data"
    }
   ],
   "source": [
    "#Bar plot of tosses to win.\n",
    "plt.style.use('dark_background')\n",
    "df1_tosses.plot.bar(figsize = (12, 8), xlabel = \"Wins\", ylabel = \"frequency\",\n",
    "                     title = \"Wins per 100 tosses in simulations\", color = 'teal')\n",
    "plt.xticks(rotation=0)\n",
    "plt.show()"
   ]
  },
  {
   "cell_type": "code",
   "execution_count": 68,
   "metadata": {},
   "outputs": [
    {
     "name": "stdout",
     "output_type": "stream",
     "text": [
      "The average number of winning events is: 9.395\n"
     ]
    },
    {
     "data": {
      "text/html": [
       "<div>\n",
       "<style scoped>\n",
       "    .dataframe tbody tr th:only-of-type {\n",
       "        vertical-align: middle;\n",
       "    }\n",
       "\n",
       "    .dataframe tbody tr th {\n",
       "        vertical-align: top;\n",
       "    }\n",
       "\n",
       "    .dataframe thead th {\n",
       "        text-align: right;\n",
       "    }\n",
       "</style>\n",
       "<table border=\"1\" class=\"dataframe\">\n",
       "  <thead>\n",
       "    <tr style=\"text-align: right;\">\n",
       "      <th></th>\n",
       "      <th>E (V)</th>\n",
       "    </tr>\n",
       "  </thead>\n",
       "  <tbody>\n",
       "    <tr>\n",
       "      <th>Mean</th>\n",
       "      <td>9.395</td>\n",
       "    </tr>\n",
       "    <tr>\n",
       "      <th>Mode</th>\n",
       "      <td>9.000</td>\n",
       "    </tr>\n",
       "  </tbody>\n",
       "</table>\n",
       "</div>"
      ],
      "text/plain": [
       "      E (V)\n",
       "Mean  9.395\n",
       "Mode  9.000"
      ]
     },
     "execution_count": 68,
     "metadata": {},
     "output_type": "execute_result"
    }
   ],
   "source": [
    "#Show Mean and Mode in dataframe\n",
    "print(\"The average number of winning events is:\", (df1.diff()==8).sum().mean()) \n",
    "pd.DataFrame([(df1.diff()==8).sum().mean(),(df1.diff()==8).sum().mode()[0]], index=['Mean', 'Mode']).rename(columns={0: 'E (V)'}) #Mean and Mode values."
   ]
  },
  {
   "attachments": {},
   "cell_type": "markdown",
   "metadata": {},
   "source": [
    "###### Prob. of tossing >= 10 times?"
   ]
  },
  {
   "cell_type": "code",
   "execution_count": 74,
   "metadata": {},
   "outputs": [
    {
     "name": "stdout",
     "output_type": "stream",
     "text": [
      "The probability of having to toss 10 times or more is: 0.475\n"
     ]
    }
   ],
   "source": [
    "ten = (pd.DataFrame((df1.diff()==8).sum()>=10)) #Winning Events with >=10 tosses for simulations\n",
    "ten = ten[ten==True].count()[0]/sim #Prob.\n",
    "print(\"The probability of having to toss 10 times or more is:\", ten)"
   ]
  },
  {
   "attachments": {},
   "cell_type": "markdown",
   "metadata": {},
   "source": [
    "###### Prob. of tossing < 5 times?"
   ]
  },
  {
   "cell_type": "code",
   "execution_count": 76,
   "metadata": {},
   "outputs": [
    {
     "name": "stdout",
     "output_type": "stream",
     "text": [
      "The probability of having to toss 5 times or less is: 0.04\n"
     ]
    }
   ],
   "source": [
    "five = (pd.DataFrame((df1.diff()==8).sum()<=5)) #Winning Events with >=10 tosses for simulations\n",
    "five = five[five==True].count()[0]/sim #Prob.\n",
    "print(\"The probability of having to toss 5 times or less is:\", five)"
   ]
  },
  {
   "attachments": {},
   "cell_type": "markdown",
   "metadata": {},
   "source": [
    "#### **Game 2:** *1,000,000 Flips for 100 coin tosses games each with $50 Capital*"
   ]
  },
  {
   "attachments": {},
   "cell_type": "markdown",
   "metadata": {},
   "source": [
    "As faster processing times are preferred, instead of doing $n_{sim}=10000$ simulations many times or just once for calculations,<br>\n",
    "we will evaluate if doing many more simulations ($n_{sim}=1000000$), deliver different and therefore more accurate results or not. "
   ]
  },
  {
   "cell_type": "code",
   "execution_count": null,
   "metadata": {},
   "outputs": [],
   "source": [
    "#Simulate 1000000 games of 150 coin tosses each with given variables (see function).\n",
    "df2 = coin_game_sim(50, 1, 100, 8, 0, 1000000)\n",
    "df2.index = df2.index + 1\n",
    "df2.head(8)"
   ]
  },
  {
   "cell_type": "code",
   "execution_count": null,
   "metadata": {},
   "outputs": [],
   "source": [
    "df2.tail(8)"
   ]
  },
  {
   "cell_type": "code",
   "execution_count": null,
   "metadata": {},
   "outputs": [],
   "source": [
    "#Call hist_plot function\n",
    "hist_plot(df2.iloc[:,-1], \"Capital\" , \"frequencies\", 100, 1000000, 0, \"brown\")"
   ]
  },
  {
   "cell_type": "code",
   "execution_count": null,
   "metadata": {},
   "outputs": [],
   "source": [
    "#Describe the final capital of the simulations.\n",
    "desc2 = pd.DataFrame(df2.iloc[:,-1].describe())\n",
    "desc2.rename(columns={150: 'F_Capital'}, inplace=True)\n",
    "desc2"
   ]
  },
  {
   "attachments": {},
   "cell_type": "markdown",
   "metadata": {},
   "source": [
    "*¿What is your Expected Value of $ (Won/Lost)?*"
   ]
  },
  {
   "cell_type": "code",
   "execution_count": null,
   "metadata": {},
   "outputs": [],
   "source": [
    "#Mean and Mode of simulations Final Capital.\n",
    "mean2 = df2.iloc[:,-1].mean()\n",
    "mode2 = df2.iloc[:,-1].mode()[0]\n",
    "print(\"The Expected Value of the capital after\", 100, \"tosses is: -\", mean2)\n",
    "pd.DataFrame({'Mean': [mean2], 'Mode': [mode2]}).T.rename(columns={0: 'E($) Loss'})"
   ]
  },
  {
   "attachments": {},
   "cell_type": "markdown",
   "metadata": {},
   "source": [
    "<br> *¿What is the probability of winning?*"
   ]
  },
  {
   "attachments": {},
   "cell_type": "markdown",
   "metadata": {},
   "source": [
    "If we remember correctly, just 10000 simulations once delivered the following results: "
   ]
  },
  {
   "cell_type": "code",
   "execution_count": null,
   "metadata": {},
   "outputs": [],
   "source": [
    "WL1"
   ]
  },
  {
   "attachments": {},
   "cell_type": "markdown",
   "metadata": {},
   "source": [
    "If we compare Final_Capital in 1,000,000 simulations, we can conclude 10,000 simulations once are just enough to evaluate Expected Values & Probabilities. "
   ]
  },
  {
   "cell_type": "code",
   "execution_count": null,
   "metadata": {},
   "outputs": [],
   "source": [
    "#Probability that the Final Capital is positive.\n",
    "WL2=pd.DataFrame((((df2.iloc[:,-1]>50).value_counts())/1000000).rename({True: \"Wins\", False: \"Losses\"}))\n",
    "WL2.rename(columns={100: 'F_Capital'}, inplace=True)\n",
    "WL2"
   ]
  },
  {
   "attachments": {},
   "cell_type": "markdown",
   "metadata": {},
   "source": [
    "##### 2. Dices Game. (5 points)\n",
    "The dices game requires the player to roll two dice one or more times until a decision is reached as to whether he (or she) wins or loses.<br>\n",
    "He wins if the first roll results in a sum of 7 or 11 or, alternatively, if the first sum is 4, 5, 6, 8, 9 or 10 and the same sum reappears before a sum of 7 appears.<br>\n",
    "Conversely, loses if the first roll results in a sum of 2, 3 or 12 or, alternatively, if the first sum is 4, 5, 6, 8, 9 or 10 and a sum of 7 after the first addition it reappears."
   ]
  },
  {
   "cell_type": "code",
   "execution_count": null,
   "metadata": {
    "ExecuteTime": {
     "end_time": "2021-10-05T17:39:48.002030Z",
     "start_time": "2021-10-05T17:39:32.444003Z"
    }
   },
   "outputs": [],
   "source": [
    "def dice_game(initial_cap, bet, prize, n_dice):\n",
    "    \"\"\"Simulates a game of rolling 2 dices, where the player bets on their resulting sum.\n",
    "    The player wins if the sum is 7, 11 or if re rolling sum reappears for the next throw,\n",
    "    loses if the sum is 2, 3 or 12 and re rolls if the sum is 4, 5, 6, 8, 9 or 10 until he wins or losses.\n",
    "    Parameters\n",
    "    ----------\n",
    "    initial_cap : int\n",
    "        The initial capital of the player.\n",
    "    bet : int\n",
    "        The amount of money that the player bets on each coin toss.\n",
    "    prize : int\n",
    "        The amount of money that the player wins if the event occurs.\n",
    "    n_dice : int\n",
    "        The number of times the dice is rolled.\n",
    "    Returns\n",
    "    -------\n",
    "    capital : numpy.ndarray\n",
    "        The capital of the player after each game played.\n",
    "    \"\"\"\n",
    "    #Creation of 2 random vectors of dices with results from 1 to 6 as integers.\n",
    "    dice_1 = np.random.randint(1,7,n_dice) \n",
    "    dice_2 = np.random.randint(1,7,n_dice) \n",
    "    sum = dice_1 + dice_2 \n",
    "    \n",
    "    #Vectors of zeros for filling.\n",
    "    capital = np.zeros(n_dice) \n",
    "    \n",
    "    #Variables at game start.\n",
    "    capital[0] = initial_cap \n",
    "    \n",
    "    #Working with arrays outside function: nonlocal variable.\n",
    "    def fill_vector(i):\n",
    "        nonlocal capital \n",
    "        \n",
    "        #Winning event:\n",
    "        if sum[i] == 7 or sum[i] == 11:\n",
    "            capital[i + 1] = capital[i] + prize \n",
    "        \n",
    "        #Losing event:\n",
    "        elif sum[i] == 2 or sum[i] == 3 or sum[i] == 12:\n",
    "            capital[i + 1] = capital[i] - bet \n",
    "\n",
    "        #Reroll event:\n",
    "        else:\n",
    "            #Throw dices again.\n",
    "            dice_1_r = np.random.randint(1,7,n_dice) \n",
    "            dice_2_r = np.random.randint(1,7,n_dice)\n",
    "            sum_r = dice_1_r + dice_2_r\n",
    "\n",
    "            #While re roll sum is not equal to last sum or last re roll sum, keep rolling.\n",
    "            while sum_r[i] != sum[i-1] or sum_r[i] != sum_r[i-1]:\n",
    "                #Throw dices again:\n",
    "                dice_1_r = np.random.randint(1,7,n_dice) \n",
    "                dice_2_r = np.random.randint(1,7,n_dice)\n",
    "                sum_r = dice_1_r + dice_2_r\n",
    "            #Losing event:\n",
    "            if sum_r[i] == 7:\n",
    "                capital[i + 1] = capital[i] - bet \n",
    "            else:\n",
    "                #Winning event:\n",
    "                capital[i + 1] = capital[i] + prize \n",
    "\n",
    "    #Fill variables with values.          \n",
    "    [fill_vector(i) for i in range(n_dice - 1)] \n",
    "    return capital"
   ]
  },
  {
   "attachments": {},
   "cell_type": "markdown",
   "metadata": {},
   "source": [
    "#### **Game 3:** *Simulation of 10,000 Dice Throws with $500 Capital*"
   ]
  },
  {
   "attachments": {},
   "cell_type": "markdown",
   "metadata": {},
   "source": [
    "1 Simulation $(n_{sim}=10000)$"
   ]
  },
  {
   "cell_type": "code",
   "execution_count": null,
   "metadata": {},
   "outputs": [],
   "source": [
    "df3_n_sim = pd.DataFrame(dice_game(500, 3, 1, 10000))\n",
    "df3_n_sim.head(8)"
   ]
  },
  {
   "cell_type": "code",
   "execution_count": null,
   "metadata": {},
   "outputs": [],
   "source": [
    "df3_n_sim.tail(8)"
   ]
  },
  {
   "cell_type": "code",
   "execution_count": null,
   "metadata": {},
   "outputs": [],
   "source": [
    "#Expected value of Final Capital.\n",
    "E_F3Capital = df3_n_sim.iloc[-1][0]\n",
    "E_Fpct = ((((df3_n_sim.iloc[-1][0]-500)/500)*100)/10000)\n",
    "print(\"The Expected Value (µ) is: \", round(E_Fpct,4), \"% per throw. For 10 games, we would expect a Final Capital of\", (500 + (500*(((df3_n_sim.iloc[-1][0]-500)/500))/10000)*10), \"$.\")\n",
    "\n",
    "#Call line_plot function for several simulations E(V) in each toss\n",
    "line_plot(df3_n_sim, 'Rolls', 'Capital', 1, 500, E_F3Capital, 10000)\n",
    "plt.legend().set_visible(False)"
   ]
  },
  {
   "cell_type": "markdown",
   "metadata": {},
   "source": [
    "*Expected Values:*"
   ]
  },
  {
   "cell_type": "code",
   "execution_count": null,
   "metadata": {},
   "outputs": [],
   "source": [
    "#Simulate 100 df3_n_sim\n",
    "df3_10=pd.DataFrame([dice_game(500, 3, 1, 10) for i in range(1000)])\n",
    "df3_10"
   ]
  },
  {
   "cell_type": "code",
   "execution_count": null,
   "metadata": {},
   "outputs": [],
   "source": [
    "#Expected value of Final Capital.\n",
    "E_F3Capital = df3_10.iloc[:,-1].mean()\n",
    "print(\"The Expected Value (µ) is: +\", ((E_F3Capital-500)/500)*100, \"% ($\", E_F3Capital,\"), not a very decent RoI..\")"
   ]
  },
  {
   "cell_type": "markdown",
   "metadata": {},
   "source": [
    "*Probabilities:*"
   ]
  },
  {
   "cell_type": "code",
   "execution_count": null,
   "metadata": {},
   "outputs": [],
   "source": [
    "#Make an histogram of the Final Capital after 10 throws.\n",
    "hist_plot(df3_10.iloc[:,-1], \"Capital\" , \"frequencies\", 10, 1000, 500, \"purple\")"
   ]
  },
  {
   "cell_type": "code",
   "execution_count": null,
   "metadata": {},
   "outputs": [],
   "source": [
    "#Final Capital of simulations > Initial Capital probability.\n",
    "WL3=pd.DataFrame((((df3_10.iloc[:,-1]>500).value_counts())).rename({True: \"Wins\", False: \"Losses\"}))\n",
    "WL3.rename(columns={9: 'Prob.'}, inplace=True)\n",
    "WL3"
   ]
  },
  {
   "cell_type": "code",
   "execution_count": null,
   "metadata": {},
   "outputs": [],
   "source": [
    "desc3 = pd.DataFrame(df3_10.iloc[:,-1].describe())\n",
    "desc3.rename(columns={9: 'F_Capital'}, inplace=True)\n",
    "desc3"
   ]
  },
  {
   "cell_type": "code",
   "execution_count": null,
   "metadata": {},
   "outputs": [],
   "source": [
    "def diceGame(n):\n",
    "    \"\"\"Simulates a dice game and returns the probability of winning, losing, and rerolling events.\n",
    "    Parameters\n",
    "    ----------\n",
    "    n : int\n",
    "        Number of simulations.  \n",
    "    Returns\n",
    "    -------\n",
    "    plot : histogram\n",
    "        Histogram of probabilities of winning, losing, and rerolling events.\n",
    "    \"\"\"\n",
    "    dice_1 = np.random.randint(1,7,n)\n",
    "    dice_2 = np.random.randint(1,7,n)\n",
    "    s = dice_1+dice_2\n",
    "    # 7 and 11 are the only two numbers that win\n",
    "    wins = [len(s[s == wins])/len(s) for wins in [7,11]]\n",
    "    w=wins[0]+wins[1]\n",
    "    # 2, 3, and 12 are the only three numbers that lose\n",
    "    loses = [len(s[s == loses])/len(s) for loses in [2,3,12]]\n",
    "    l=loses[0]+loses[1]+loses[2]\n",
    "    # All other numbers are rerolled\n",
    "    rep = [len(s[s == rep])/len(s) for rep in [4,5,6,8,9,10]]\n",
    "    rep = np.sum([rep[i] for i in range(len(rep))])\n",
    "    plt.style.use('ggplot')\n",
    "    plt.title('Probability of Events in Dice Games')\n",
    "    plt.bar(['Win', 'Reroll', 'Lose'], [w,rep,l])\n",
    "    plt.ylabel('Probability')\n",
    "    return plt.show()"
   ]
  },
  {
   "cell_type": "code",
   "execution_count": null,
   "metadata": {},
   "outputs": [],
   "source": [
    "diceGame(10000)"
   ]
  },
  {
   "attachments": {},
   "cell_type": "markdown",
   "metadata": {},
   "source": [
    "#### 3. Monty Hall (5 points)\n",
    "You are given the choice of three doors: behind one door is a valuable prize; Behind the other two, goats. You choose a door, let's say the No. 1, and the host, who knows what is behind the doors, opens another door, suppose the No. 3, who has a goat. Then he says to you: \"Do you want to choose door No. 2?\" Is there an advantage to changing the first door chosen?. Solve this problem using montecarlo and answer the following question:\n",
    "What would be the probability of winning the valuable prize if you choose to change the first gate chosen?"
   ]
  },
  {
   "cell_type": "code",
   "execution_count": null,
   "metadata": {},
   "outputs": [],
   "source": [
    "# Simulations\n",
    "n = 10000\n",
    "\n",
    "# Initialize \n",
    "doors_2 = 0\n",
    "doors_3 = 0\n",
    "\n",
    "# Simulation\n",
    "for i in range(n):\n",
    "    doors = ['goat', 'prize', 'goat']\n",
    "    # Change the results\n",
    "    np.random.shuffle(doors)\n",
    "    # Random choice\n",
    "    choice_3 = np.random.randint(0, 2)\n",
    "    # Removal of door containing a goat\n",
    "    goat_X = np.random.choice([i for i in range(len(doors)) if doors[i] == 'goat' and i != choice_3])\n",
    "    doors_remaining = [0, 1, 2]\n",
    "    doors_remaining.remove(choice_3) # Elimination of choice with 3 doors\n",
    "    doors_remaining.remove(goat_X) # Goat removal\n",
    "    choice_2 = doors_remaining[0] # Choice resulting from having 2 doors\n",
    "    # Count hits with 3 and 2 doors after change of choice.\n",
    "    if doors[choice_3] == 'prize':\n",
    "        doors_3 += 1\n",
    "    elif doors[choice_2] == 'prize':\n",
    "        doors_2 += 1\n",
    "        \n",
    "# Histogram of probabilities\n",
    "plt.style.use('classic')\n",
    "plt.bar(['Win Prob.', 'Prob. removing a goat.'],\\\n",
    "        [doors_3 / n, doors_2 / n], width=0.5)\n",
    "plt.ylabel('Probability')\n",
    "plt.show()"
   ]
  },
  {
   "cell_type": "code",
   "execution_count": null,
   "metadata": {
    "ExecuteTime": {
     "end_time": "2021-10-05T15:41:34.456369Z",
     "start_time": "2021-10-05T15:41:34.444440Z"
    }
   },
   "outputs": [],
   "source": [
    "print('The probability of opening the door containing the prize is:', doors_3 / n,\n",
    "      '. If a door is removed by containing a goat, the new. chance of winning is:', doors_2 / n)"
   ]
  },
  {
   "attachments": {},
   "cell_type": "markdown",
   "metadata": {},
   "source": [
    "#### 4. Triangles Game (5 points)\n",
    "Three uniformly random points are chosen from the perimeter of a unit circle. <br>\n",
    "Use Monte Carlo simulation to generate triangles. <br>\n",
    "¿what is the probability of randomly generating acute triangles?"
   ]
  },
  {
   "cell_type": "code",
   "execution_count": null,
   "metadata": {},
   "outputs": [],
   "source": [
    "#Monte Carlo simulation to find the probability that the points form an acute triangle, what is the probability of randomly generating acute triangles?\n",
    "def triangle(n):\n",
    "    \"\"\"Simulates a triangle and returns the probability of being acute.\n",
    "    Parameters\n",
    "    ----------\n",
    "    n : int\n",
    "        Number of simulations.  \n",
    "    Returns\n",
    "    -------\n",
    "    plot : histogram\n",
    "        Histogram of probabilities of being acute.\n",
    "    \"\"\"\n",
    "\n",
    "    acute = 0\n",
    "    for i in range(n):\n",
    "        x = np.random.randint(1, 100, 3)\n",
    "        y = np.random.randint(1, 100, 3)\n",
    "        a = np.sqrt((x[1] - x[0])**2 + (y[1] - y[0])**2)\n",
    "        b = np.sqrt((x[2] - x[1])**2 + (y[2] - y[1])**2)\n",
    "        c = np.sqrt((x[2] - x[0])**2 + (y[2] - y[0])**2)\n",
    "        if a**2 + b**2 > c**2 and a**2 + c**2 > b**2 and b**2 + c**2 > a**2:\n",
    "            acute += 1\n",
    "\n",
    "    return print(\"The probability of forming an acute triangle is:\", acute / n)\n",
    "\n",
    "triangle(10000)"
   ]
  }
 ],
 "metadata": {
  "kernelspec": {
   "display_name": "Python 3 (ipykernel)",
   "language": "python",
   "name": "python3"
  },
  "language_info": {
   "codemirror_mode": {
    "name": "ipython",
    "version": 3
   },
   "file_extension": ".py",
   "mimetype": "text/x-python",
   "name": "python",
   "nbconvert_exporter": "python",
   "pygments_lexer": "ipython3",
   "version": "3.8.13"
  },
  "latex_envs": {
   "LaTeX_envs_menu_present": true,
   "autoclose": false,
   "autocomplete": true,
   "bibliofile": "biblio.bib",
   "cite_by": "apalike",
   "current_citInitial": 1,
   "eqLabelWithNumbers": true,
   "eqNumInitial": 1,
   "hotkeys": {
    "equation": "Ctrl-E",
    "itemize": "Ctrl-I"
   },
   "labels_anchors": false,
   "latex_user_defs": false,
   "report_style_numbering": false,
   "user_envs_cfg": false
  }
 },
 "nbformat": 4,
 "nbformat_minor": 4
}
