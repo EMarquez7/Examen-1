{
 "cells": [
  {
   "attachments": {},
   "cell_type": "markdown",
   "metadata": {},
   "source": [
    "### <font color='white'> Simulation Processes Course. <font>\n",
    "\n",
    "**Made by:**\n",
    "[EstebanMqz](https://github.com/EstebanMqz)\n",
    "\n",
    "**Date:** September 27, 2021.\n",
    "\n",
    "**Repository**: https://github.com/EstebanMqz/MonteCarlo-Simulations\n",
    "<font>\n",
    "<br><br>\n",
    "<font color= 'orange'>Simulations. "
   ]
  },
  {
   "attachments": {},
   "cell_type": "markdown",
   "metadata": {},
   "source": [
    "As we know: $N_{sim}$ must be $\\geq 10000$"
   ]
  },
  {
   "attachments": {},
   "cell_type": "markdown",
   "metadata": {},
   "source": [
    "#### 1. Tossing a Coin Game \n",
    "\n",
    "There's a game with the following rules in a Casino:<br>\n",
    "- Repeatedly toss a fair coin until the difference between the heads tossed and tails is 3.\n",
    "- $\\$1$ is the cost of a toss. If you haven't won, you can't exit until you win or you have no money left.\n",
    "- The prize is $\\$8$ for finishing a game."
   ]
  },
  {
   "attachments": {},
   "cell_type": "markdown",
   "metadata": {},
   "source": [
    "##### <span style='color:red'> Project Creators:</span> Create requirements.txt file.<br>"
   ]
  },
  {
   "cell_type": "code",
   "execution_count": 1,
   "metadata": {},
   "outputs": [],
   "source": [
    "import functions as fn\n",
    "import data as dt"
   ]
  },
  {
   "cell_type": "code",
   "execution_count": 2,
   "metadata": {},
   "outputs": [
    {
     "name": "stdout",
     "output_type": "stream",
     "text": [
      "requirements.txt file is created, it's in user's local path: c:\\Users\\Esteban\\Desktop\\Projects\\Github\\Repos_To-do\\Languages\\Python\\Fin_Sim\\Simulation_Course_Exams\\MonteCarlo-Simulations\\requirements.txt\n"
     ]
    }
   ],
   "source": [
    "docstring = \"\"\"\n",
    "# -- ------------------------------------------------------------------------------------------------------------------------   -- # \n",
    "# -- project: MonteCarlo-Simulations                                                                                            -- # \n",
    "# -- script: requirements.txt: txt file to download Python modules for execution                                                -- # \n",
    "# -- author: EstebanMqz                                                                                                         -- # \n",
    "# -- license: CC BY 3.0                                                                                                         -- # \n",
    "# -- repository: https://github.com/EstebanMqz/MonteCarlo-Simulations/blob/main/requirements.txt                                -- # \n",
    "# -- ------------------------------------------------------------------------------------------------------------------------   -- # \n",
    "\\n\n",
    "\"\"\"\n",
    "fn.get_requirements(docstring)"
   ]
  },
  {
   "attachments": {},
   "cell_type": "markdown",
   "metadata": {},
   "source": [
    "##### <span style='color:green'> Project Users:</span> Install libraries in requirements.txt file.<br>"
   ]
  },
  {
   "cell_type": "code",
   "execution_count": 3,
   "metadata": {},
   "outputs": [
    {
     "name": "stdout",
     "output_type": "stream",
     "text": [
      "Requirements installed.\n",
      "\n",
      "# -- ------------------------------------------------------------------------------------------------------------------------   -- # \n",
      "# -- project: MonteCarlo-Simulations                                                                                            -- # \n",
      "# -- script: requirements.txt: txt file to download Python modules for execution                                                -- # \n",
      "# -- author: EstebanMqz                                                                                                         -- # \n",
      "# -- license: CC BY 3.0                                                                                                         -- # \n",
      "# -- repository: https://github.com/EstebanMqz/MonteCarlo-Simulations/blob/main/requirements.txt                                -- # \n",
      "# -- ------------------------------------------------------------------------------------------------------------------------   -- # \n",
      "\n",
      "\n",
      "numpy >= 1.23.5 \n",
      "pandas >= 1.4.4 \n",
      "matplotlib >= 3.5.3 \n",
      "jupyter >= 1.0.0\n"
     ]
    }
   ],
   "source": [
    "dt.library_install(\"requirements.txt\")"
   ]
  },
  {
   "attachments": {},
   "cell_type": "markdown",
   "metadata": {},
   "source": [
    "#### <span style='color:lightblue'> Coin Game</span><br>"
   ]
  },
  {
   "cell_type": "code",
   "execution_count": 116,
   "metadata": {},
   "outputs": [],
   "source": [
    "def coin_game(initial_cap, bet, n_tosses, prize, start):\n",
    "    \"\"\"Simulates a coin game where the player tries to win by tossing coins.\n",
    "    The player wins if the difference between the number of heads and tails is 3,\n",
    "    and loses if the difference while it is lower, counters are reset after each win.\n",
    "    Parameters\n",
    "    ----------\n",
    "    initial_cap : int\n",
    "        The initial capital of the player.\n",
    "    bet : int\n",
    "        The amount of money that the player bets on each coin toss.\n",
    "    n_tosses : int\n",
    "        The number of coin tosses.\n",
    "    prize : int\n",
    "        The amount of money that the player wins if the coin toss is heads.\n",
    "    start : int\n",
    "        The starting value of the variables.\n",
    "    Returns\n",
    "    -------\n",
    "    capital : numpy.ndarray\n",
    "        The capital of the player at each coin toss.\n",
    "    \"\"\"\n",
    "    #Vectors of zeros for filling.\n",
    "    capital = np.zeros(n_tosses) \n",
    "    heads = np.zeros(n_tosses) \n",
    "    tails = np.zeros(n_tosses)\n",
    "    diff = np.zeros(n_tosses) \n",
    "    tosses = np.zeros(n_tosses)\n",
    "\n",
    "    #Variables at game start.\n",
    "    capital[0] = initial_cap \n",
    "    heads[0] = start\n",
    "    tails[0] = start \n",
    "    diff[0] = start \n",
    "    tosses[0] = start\n",
    "\n",
    "    #Working with arrays outside function: nonlocal variables.\n",
    "    def fill_vector(i):\n",
    "        nonlocal capital \n",
    "        nonlocal heads\n",
    "        nonlocal tails\n",
    "        nonlocal diff\n",
    "        nonlocal tosses\n",
    "\n",
    "        #Coin toss = Heads.\n",
    "        if randrange(2) == 0: \n",
    "            heads[i+1] = heads[i] + 1 \n",
    "            tails[i+1] = tails[i]     \n",
    "            diff[i+1] = abs(tails [i+1] - heads [i+1] ) \n",
    "            tosses[i+1] = tosses[i] + 1 \t\n",
    "        else:\n",
    "            #Coin toss = Tails.\n",
    "            tails[i+1] = tails[i] + 1 \n",
    "            heads[i+1] = heads[i] \n",
    "            diff[i+1] = abs(tails [i+1] - heads [i+1] ) \n",
    "            tosses[i+1] = tosses[i] + 1\n",
    "\n",
    "        #Lose bet ($1): Difference in tossed coins (H & T) < 3.         \n",
    "        if diff[i] < 3: \n",
    "                capital[i + 1] = capital[i] - bet\n",
    "\n",
    "        #Win bet ($8): Difference in tossed coins (H & T) = 3.                  \n",
    "        if diff[i] == 3: \n",
    "                capital[i + 1] = capital[i] + prize\n",
    "                #Reset (H & T). \n",
    "                heads[i+1] = start\n",
    "                tails[i+1] = start\n",
    "                diff[i+1] = start\n",
    "        \n",
    "    #Fill variables with values.           \n",
    "    [fill_vector(i) for i in range(n_tosses - 1)]\n",
    "\n",
    "    #Make a Dataframe of resulting capital per toss. \n",
    "    capital = pd.DataFrame(capital)\n",
    "    capital.columns = ['Capital']\n",
    "    capital.index.name = 'Tosses'\n",
    "\n",
    "    return capital"
   ]
  },
  {
   "attachments": {},
   "cell_type": "markdown",
   "metadata": {},
   "source": [
    "#### <span style='color:lightblue'> Simulation</span> "
   ]
  },
  {
   "cell_type": "code",
   "execution_count": 115,
   "metadata": {},
   "outputs": [],
   "source": [
    "def coin_game_sim(i_capital, bet, n_tosses, prize, i_tosses_counter, n_sim):\n",
    "    \"\"\"Creates a dataframe of n simulations of the coin game for n_tosses.\n",
    "    Parameters\n",
    "    ----------\n",
    "    i_capital : int\n",
    "        The initial capital of the player.\n",
    "    bet : int\n",
    "        The amount of money that the player bets per coin toss.\n",
    "    n_tosses : int\n",
    "        The number of coin tosses in each simulation.\n",
    "    prize : int\n",
    "        The amount of money that the player wins if the coin toss is heads.\n",
    "    i_tosses_counter : int\n",
    "        The number of tosses.\n",
    "    n : int\n",
    "        The number of simulations.\n",
    "    Returns\n",
    "    -------\n",
    "    df : pandas.DataFrame\n",
    "        A dataframe of n simulations for coin games played.\n",
    "    \"\"\"\n",
    "    #Create an array of n simulations of the coin game for n_tosses.\n",
    "    simulation_arr=[coin_game(i_capital, bet, n_tosses, prize, i_tosses_counter) for i in range(n_sim)]\n",
    "\n",
    "    #Create dataframe from simulations.\n",
    "    df = pd.DataFrame([i.iloc[:,0].values for i in simulation_arr])\n",
    "    #Rename columns and index.\n",
    "    df.columns = [str(i) for i in range(1, n_tosses+1)]\n",
    "    #Index and last column name\n",
    "    df.index.name = 'Sim'\n",
    "    df.rename(columns={str(n_tosses): n_tosses}, inplace=True)\n",
    "\n",
    "    return df"
   ]
  },
  {
   "cell_type": "markdown",
   "metadata": {},
   "source": [
    "#### <span style='color:lightblue'> Plots</span><br>"
   ]
  },
  {
   "cell_type": "code",
   "execution_count": null,
   "metadata": {},
   "outputs": [],
   "source": [
    "def line_plot(coin_simulation, xlabel , ylabel, n_tosses, i_capital, f_capital, n):\n",
    "    \"\"\"Plots a line plot of the data over time in n Monte Carlo simulations.\n",
    "    Parameters\n",
    "    ----------\n",
    "    coin_simulation : pandas.DataFrame\n",
    "        The capital of the player at each coin toss.\n",
    "    xlabel : str\n",
    "        The label of the x-axis.\n",
    "    ylabel : str\n",
    "        The label of the y-axis.\n",
    "    n : int\n",
    "        The number of simulations in coin_simulation.\n",
    "    i_capital : int\n",
    "        The initial capital of the player.\n",
    "    f_capital : int\n",
    "        The final capital of the player.\n",
    "    Returns\n",
    "    -------\n",
    "    line_plot : matplotlib.pyplot\n",
    "        The line plot of the capital over time in n Monte Carlo simulations.\n",
    "    \"\"\"\n",
    "    coin_simulation \n",
    "    plt.style.use(\"ggplot\")\n",
    "    coin_simulation.plot(figsize = (12, 8), xlabel = xlabel, ylabel = ylabel, title = (\"Capital over time in \" + str(n)\n",
    "                    + \" Monte Carlo simulations of \" + str(n_tosses) + \" games went from \" + str(i_capital)+ \" to: \"\n",
    "                    + str(f_capital)), linewidth = 0.5)\n",
    "    #Show label of the number of the plot number in the legend.\n",
    "    plt.legend(loc = 'upper left', bbox_to_anchor = (1, 1), labels = [str(i) for i in range(1, n+1)])\n",
    "\n",
    "def hist_plot(coin_simulation, xlabel , ylabel, n_tosses, n, i_capital, color):\n",
    "    \"\"\"Plots a hist plot of the final capital in Monte Carlo simulations.\n",
    "    Parameters\n",
    "    ----------\n",
    "    coin_simulation : pandas.DataFrame\n",
    "        The capital of the player at each coin toss.\n",
    "    xlabel : str\n",
    "        The label of the x-axis.\n",
    "    ylabel : str\n",
    "        The label of the y-axis.\n",
    "    n : int\n",
    "        The number of simulations in coin_simulation.\n",
    "    i_capital : int\n",
    "        The initial capital of the player.\n",
    "    f_capital : int\n",
    "        The final capital of the player.\n",
    "    Returns\n",
    "    -------\n",
    "    line_plot : matplotlib.pyplot\n",
    "        The line plot of the capital over time in n Monte Carlo simulations.\n",
    "    \"\"\"\n",
    "    plt.style.use('ggplot')\n",
    "    plt.title(\"Final capital after \" + str(n_tosses) + \" games with starting capital of \" + str(i_capital)\n",
    "          + \" calculated with \" + str(n) + \" simulations (of \" + str(n_tosses) + \" played games each).\")\n",
    "    plt.xlabel(xlabel)\n",
    "    plt.ylabel(ylabel)\n",
    "\n",
    "    plt.hist(coin_simulation, bins = 20, color = color, width = 5, edgecolor='black', density=True)[2]\n",
    "    plt.gcf().set_size_inches(12, 8)\n",
    "    \n",
    "    return plt.show()"
   ]
  },
  {
   "attachments": {},
   "cell_type": "markdown",
   "metadata": {},
   "source": [
    "#### **Game 1:** *Simulations of 10,000 Flips for 100 coin tosses games each with $50 Capital*"
   ]
  },
  {
   "attachments": {},
   "cell_type": "markdown",
   "metadata": {},
   "source": [
    "1 Simulation $(n_{sim}=10000)$"
   ]
  },
  {
   "cell_type": "code",
   "execution_count": null,
   "metadata": {},
   "outputs": [],
   "source": [
    "#Simulate 10000 games of 100 coin tosses each with given variables (see function).\n",
    "df1 = coin_game_sim(50, 1, 100, 8, 0, 10000)\n",
    "df1.index = df1.index + 1\n",
    "df1.head(8)"
   ]
  },
  {
   "cell_type": "code",
   "execution_count": null,
   "metadata": {},
   "outputs": [],
   "source": [
    "df1.tail(8)"
   ]
  },
  {
   "attachments": {},
   "cell_type": "markdown",
   "metadata": {},
   "source": [
    "*Expected Values:*"
   ]
  },
  {
   "attachments": {},
   "cell_type": "markdown",
   "metadata": {},
   "source": [
    "By obtaining the mean $(\\mu)$ from simulations in each toss we can calculate its Expected Value."
   ]
  },
  {
   "cell_type": "code",
   "execution_count": null,
   "metadata": {},
   "outputs": [],
   "source": [
    "\n",
    "E_V1=pd.DataFrame(df1.mean(), columns=['E (V) : µ'])\n",
    "E_V1.index.name = 'Toss No°'\n",
    "print('Expected Value ≈ $', E_V1.iloc[-1][0], \"after\", 100, \"tosses\")\n",
    "E_V1.tail(8)"
   ]
  },
  {
   "attachments": {},
   "cell_type": "markdown",
   "metadata": {},
   "source": [
    "¿Can we trust the mean $\\mu$ from the simulation?<br>\n",
    "To be more accurate, we could do several simulations to compare the expected value for each toss.<br>\n",
    "10 Simulations $(n_{sim}=10000)$"
   ]
  },
  {
   "cell_type": "code",
   "execution_count": null,
   "metadata": {},
   "outputs": [],
   "source": [
    "#From 10000 simulations we toss 100 coins and we reproduce the experiment 10 times.\n",
    "df1_n_sim = [coin_game_sim(50, 1, 100, 8, 0, 10000).mean() for i in range(10)]\n",
    "#So we can evaluate visually the E(V) for each toss by obtaining the mean of the 10000 simulations for each toss."
   ]
  },
  {
   "cell_type": "code",
   "execution_count": null,
   "metadata": {},
   "outputs": [],
   "source": [
    "#Expected value of Final Capital.\n",
    "E_FCapital = np.sum([df1_n_sim[i].iloc[-1].sum() for i in range (10)])/10\n",
    "print(\"The Expected Value (µ) is: -\", ((50-E_FCapital)/50)*100, \"% ($\", E_FCapital,\"), it is indeed a very bad RoI..\")\n",
    "\n",
    "#Call line_plot function to plot Expected Value for each toss in experiments.\n",
    "[line_plot(df1_n_sim[i], 'Tosses', 'Capital', 100, 50, df1_n_sim[i].iloc[-1], 10000) for i in range(10)][2]"
   ]
  },
  {
   "attachments": {},
   "cell_type": "markdown",
   "metadata": {},
   "source": [
    "Simulations expected values $(\\mu)$ for each toss seem to approximate enough.<br>\n",
    "Therefore, we could use just 1 simulation $(n_{sim}=10000)$."
   ]
  },
  {
   "cell_type": "code",
   "execution_count": null,
   "metadata": {},
   "outputs": [],
   "source": [
    "#Probabilities of winning and losing.\n",
    "WL1=pd.DataFrame((((df1.iloc[:,-1]>50).value_counts())/10000).rename({True: \"Wins\", False: \"Losses\"}))\n",
    "WL1.rename(columns={100: 'F_Capital'}, inplace=True)\n",
    "WL1"
   ]
  },
  {
   "attachments": {},
   "cell_type": "markdown",
   "metadata": {},
   "source": [
    "*Probabilities:*"
   ]
  },
  {
   "cell_type": "code",
   "execution_count": null,
   "metadata": {},
   "outputs": [],
   "source": [
    "#Tosses taken to win\n",
    "unique, counts = np.unique((df1.T.diff()==8).sum(), return_counts=True)\n",
    "df1_tosses=pd.DataFrame({'Wins': unique, 'frequency': counts}).set_index('Wins')\n",
    "df1_tosses"
   ]
  },
  {
   "attachments": {},
   "cell_type": "markdown",
   "metadata": {},
   "source": [
    "*Tosses to Win:*"
   ]
  },
  {
   "cell_type": "code",
   "execution_count": null,
   "metadata": {},
   "outputs": [],
   "source": [
    "#Bar plot of tosses to win.\n",
    "df1_tosses.plot.bar(figsize = (12, 8), xlabel = \"Wins\", ylabel = \"frequency\",\n",
    "                     title = \"Wins per 100 tosses in simulations\", color = 'teal')\n",
    "plt.xticks(rotation=0)\n",
    "plt.show()"
   ]
  },
  {
   "cell_type": "code",
   "execution_count": null,
   "metadata": {},
   "outputs": [],
   "source": [
    "#Show Mean and Mode in dataframe\n",
    "print(\"The average number of winning events per game is:\", (df1.T.diff()==8).sum().mean()) \n",
    "pd.DataFrame([(df1.T.diff()==8).sum().mean(),(df1.T.diff()==8).sum().mode()[0]], index=['Mean', 'Mode']).rename(columns={0: 'E (V)'}) #Mean and Mode values."
   ]
  },
  {
   "cell_type": "code",
   "execution_count": null,
   "metadata": {},
   "outputs": [],
   "source": [
    "#Final Capital of simulations > Initial Capital probability.\n",
    "WL1=pd.DataFrame((((df1.iloc[:,-1]>50).value_counts())).rename({True: \"Wins\", False: \"Losses\"}))\n",
    "WL1.rename(columns={100: 'Prob.'}, inplace=True)\n",
    "WL1"
   ]
  },
  {
   "attachments": {},
   "cell_type": "markdown",
   "metadata": {},
   "source": [
    "###### Prob. of tossing >= 10 times?"
   ]
  },
  {
   "cell_type": "code",
   "execution_count": null,
   "metadata": {},
   "outputs": [],
   "source": [
    "ten = (pd.DataFrame((df1.T.diff()==8).sum()>=10)) #Winning Events with >=10 tosses for simulations\n",
    "ten = ten[ten==True].count()[0]/10000 #Prob.\n",
    "print(\"The probability that the player wins in 10 tosses or more is:\", ten)"
   ]
  },
  {
   "attachments": {},
   "cell_type": "markdown",
   "metadata": {},
   "source": [
    "###### Prob. of tossing < 5 times?"
   ]
  },
  {
   "cell_type": "code",
   "execution_count": null,
   "metadata": {},
   "outputs": [],
   "source": [
    "five = (pd.DataFrame((df1.T.diff()==8).sum()<=5)) #Winning Events with >=10 tosses for simulations\n",
    "five = five[five==True].count()[0]/10000 #Prob.\n",
    "print(\"The probability that the player losses in 5 tosses or less is:\", five)"
   ]
  },
  {
   "attachments": {},
   "cell_type": "markdown",
   "metadata": {},
   "source": [
    "#### **Game 2:** *1,000,000 Flips for 100 coin tosses games each with $50 Capital*"
   ]
  },
  {
   "attachments": {},
   "cell_type": "markdown",
   "metadata": {},
   "source": [
    "As faster processing times are preferred, instead of doing $n_{sim}=10000$ simulations many times or just once for calculations,<br>\n",
    "we will evaluate if doing many more simulations ($n_{sim}=1000000$), deliver different and therefore more accurate results or not. "
   ]
  },
  {
   "cell_type": "code",
   "execution_count": null,
   "metadata": {},
   "outputs": [],
   "source": [
    "#Simulate 1000000 games of 150 coin tosses each with given variables (see function).\n",
    "df2 = coin_game_sim(50, 1, 100, 8, 0, 1000000)\n",
    "df2.index = df2.index + 1\n",
    "df2.head(8)"
   ]
  },
  {
   "cell_type": "code",
   "execution_count": null,
   "metadata": {},
   "outputs": [],
   "source": [
    "df2.tail(8)"
   ]
  },
  {
   "cell_type": "code",
   "execution_count": null,
   "metadata": {},
   "outputs": [],
   "source": [
    "#Call hist_plot function\n",
    "hist_plot(df2.iloc[:,-1], \"Capital\" , \"frequencies\", 100, 1000000, 0, \"brown\")"
   ]
  },
  {
   "cell_type": "code",
   "execution_count": null,
   "metadata": {},
   "outputs": [],
   "source": [
    "#Describe the final capital of the simulations.\n",
    "desc2 = pd.DataFrame(df2.iloc[:,-1].describe())\n",
    "desc2.rename(columns={150: 'F_Capital'}, inplace=True)\n",
    "desc2"
   ]
  },
  {
   "attachments": {},
   "cell_type": "markdown",
   "metadata": {},
   "source": [
    "*¿What is your Expected Value of $ (Won/Lost)?*"
   ]
  },
  {
   "cell_type": "code",
   "execution_count": null,
   "metadata": {},
   "outputs": [],
   "source": [
    "#Mean and Mode of simulations Final Capital.\n",
    "mean2 = df2.iloc[:,-1].mean()\n",
    "mode2 = df2.iloc[:,-1].mode()[0]\n",
    "print(\"The Expected Value of the capital after\", 100, \"tosses is: -\", mean2)\n",
    "pd.DataFrame({'Mean': [mean2], 'Mode': [mode2]}).T.rename(columns={0: 'E($) Loss'})"
   ]
  },
  {
   "attachments": {},
   "cell_type": "markdown",
   "metadata": {},
   "source": [
    "<br> *¿What is the probability of winning?*"
   ]
  },
  {
   "attachments": {},
   "cell_type": "markdown",
   "metadata": {},
   "source": [
    "If we remember correctly, just 10000 simulations once delivered the following results: "
   ]
  },
  {
   "cell_type": "code",
   "execution_count": null,
   "metadata": {},
   "outputs": [],
   "source": [
    "WL1"
   ]
  },
  {
   "attachments": {},
   "cell_type": "markdown",
   "metadata": {},
   "source": [
    "If we compare Final_Capital in 1,000,000 simulations, we can conclude 10,000 simulations once are just enough to evaluate Expected Values & Probabilities. "
   ]
  },
  {
   "cell_type": "code",
   "execution_count": null,
   "metadata": {},
   "outputs": [],
   "source": [
    "#Probability that the Final Capital is positive.\n",
    "WL2=pd.DataFrame((((df2.iloc[:,-1]>50).value_counts())/1000000).rename({True: \"Wins\", False: \"Losses\"}))\n",
    "WL2.rename(columns={100: 'F_Capital'}, inplace=True)\n",
    "WL2"
   ]
  },
  {
   "attachments": {},
   "cell_type": "markdown",
   "metadata": {},
   "source": [
    "##### 2. Dices Game. (5 points)\n",
    "The dices game requires the player to roll two dice one or more times until a decision is reached as to whether he (or she) wins or loses.<br>\n",
    "He wins if the first roll results in a sum of 7 or 11 or, alternatively, if the first sum is 4, 5, 6, 8, 9 or 10 and the same sum reappears before a sum of 7 appears.<br>\n",
    "Conversely, loses if the first roll results in a sum of 2, 3 or 12 or, alternatively, if the first sum is 4, 5, 6, 8, 9 or 10 and a sum of 7 after the first addition it reappears."
   ]
  },
  {
   "cell_type": "code",
   "execution_count": null,
   "metadata": {
    "ExecuteTime": {
     "end_time": "2021-10-05T17:39:48.002030Z",
     "start_time": "2021-10-05T17:39:32.444003Z"
    }
   },
   "outputs": [],
   "source": [
    "def dice_game(initial_cap, bet, prize, n_dice):\n",
    "    \"\"\"Simulates a game of rolling 2 dices, where the player bets on their resulting sum.\n",
    "    The player wins if the sum is 7, 11 or if re rolling sum reappears for the next throw,\n",
    "    loses if the sum is 2, 3 or 12 and re rolls if the sum is 4, 5, 6, 8, 9 or 10 until he wins or losses.\n",
    "    Parameters\n",
    "    ----------\n",
    "    initial_cap : int\n",
    "        The initial capital of the player.\n",
    "    bet : int\n",
    "        The amount of money that the player bets on each coin toss.\n",
    "    prize : int\n",
    "        The amount of money that the player wins if the event occurs.\n",
    "    n_dice : int\n",
    "        The number of times the dice is rolled.\n",
    "    Returns\n",
    "    -------\n",
    "    capital : numpy.ndarray\n",
    "        The capital of the player after each game played.\n",
    "    \"\"\"\n",
    "    #Creation of 2 random vectors of dices with results from 1 to 6 as integers.\n",
    "    dice_1 = np.random.randint(1,7,n_dice) \n",
    "    dice_2 = np.random.randint(1,7,n_dice) \n",
    "    sum = dice_1 + dice_2 \n",
    "    \n",
    "    #Vectors of zeros for filling.\n",
    "    capital = np.zeros(n_dice) \n",
    "    \n",
    "    #Variables at game start.\n",
    "    capital[0] = initial_cap \n",
    "    \n",
    "    #Working with arrays outside function: nonlocal variable.\n",
    "    def fill_vector(i):\n",
    "        nonlocal capital \n",
    "        \n",
    "        #Winning event:\n",
    "        if sum[i] == 7 or sum[i] == 11:\n",
    "            capital[i + 1] = capital[i] + prize \n",
    "        \n",
    "        #Losing event:\n",
    "        elif sum[i] == 2 or sum[i] == 3 or sum[i] == 12:\n",
    "            capital[i + 1] = capital[i] - bet \n",
    "\n",
    "        #Reroll event:\n",
    "        else:\n",
    "            #Throw dices again.\n",
    "            dice_1_r = np.random.randint(1,7,n_dice) \n",
    "            dice_2_r = np.random.randint(1,7,n_dice)\n",
    "            sum_r = dice_1_r + dice_2_r\n",
    "\n",
    "            #While re roll sum is not equal to last sum or last re roll sum, keep rolling.\n",
    "            while sum_r[i] != sum[i-1] or sum_r[i] != sum_r[i-1]:\n",
    "                #Throw dices again:\n",
    "                dice_1_r = np.random.randint(1,7,n_dice) \n",
    "                dice_2_r = np.random.randint(1,7,n_dice)\n",
    "                sum_r = dice_1_r + dice_2_r\n",
    "            #Losing event:\n",
    "            if sum_r[i] == 7:\n",
    "                capital[i + 1] = capital[i] - bet \n",
    "            else:\n",
    "                #Winning event:\n",
    "                capital[i + 1] = capital[i] + prize \n",
    "\n",
    "    #Fill variables with values.          \n",
    "    [fill_vector(i) for i in range(n_dice - 1)] \n",
    "    return capital"
   ]
  },
  {
   "attachments": {},
   "cell_type": "markdown",
   "metadata": {},
   "source": [
    "#### **Game 3:** *Simulation of 10,000 Dice Throws with $500 Capital*"
   ]
  },
  {
   "attachments": {},
   "cell_type": "markdown",
   "metadata": {},
   "source": [
    "1 Simulation $(n_{sim}=10000)$"
   ]
  },
  {
   "cell_type": "code",
   "execution_count": null,
   "metadata": {},
   "outputs": [],
   "source": [
    "df3_n_sim = pd.DataFrame(dice_game(500, 3, 1, 10000))\n",
    "df3_n_sim.head(8)"
   ]
  },
  {
   "cell_type": "code",
   "execution_count": null,
   "metadata": {},
   "outputs": [],
   "source": [
    "df3_n_sim.tail(8)"
   ]
  },
  {
   "cell_type": "code",
   "execution_count": null,
   "metadata": {},
   "outputs": [],
   "source": [
    "#Expected value of Final Capital.\n",
    "E_F3Capital = df3_n_sim.iloc[-1][0]\n",
    "E_Fpct = ((((df3_n_sim.iloc[-1][0]-500)/500)*100)/10000)\n",
    "print(\"The Expected Value (µ) is: \", round(E_Fpct,4), \"% per throw. For 10 games, we would expect a Final Capital of\", (500 + (500*(((df3_n_sim.iloc[-1][0]-500)/500))/10000)*10), \"$.\")\n",
    "\n",
    "#Call line_plot function for several simulations E(V) in each toss\n",
    "line_plot(df3_n_sim, 'Rolls', 'Capital', 1, 500, E_F3Capital, 10000)\n",
    "plt.legend().set_visible(False)"
   ]
  },
  {
   "cell_type": "markdown",
   "metadata": {},
   "source": [
    "*Expected Values:*"
   ]
  },
  {
   "cell_type": "code",
   "execution_count": null,
   "metadata": {},
   "outputs": [],
   "source": [
    "#Simulate 100 df3_n_sim\n",
    "df3_10=pd.DataFrame([dice_game(500, 3, 1, 10) for i in range(1000)])\n",
    "df3_10"
   ]
  },
  {
   "cell_type": "code",
   "execution_count": null,
   "metadata": {},
   "outputs": [],
   "source": [
    "#Expected value of Final Capital.\n",
    "E_F3Capital = df3_10.iloc[:,-1].mean()\n",
    "print(\"The Expected Value (µ) is: +\", ((E_F3Capital-500)/500)*100, \"% ($\", E_F3Capital,\"), not a very decent RoI..\")"
   ]
  },
  {
   "cell_type": "markdown",
   "metadata": {},
   "source": [
    "*Probabilities:*"
   ]
  },
  {
   "cell_type": "code",
   "execution_count": null,
   "metadata": {},
   "outputs": [],
   "source": [
    "#Make an histogram of the Final Capital after 10 throws.\n",
    "hist_plot(df3_10.iloc[:,-1], \"Capital\" , \"frequencies\", 10, 1000, 500, \"purple\")"
   ]
  },
  {
   "cell_type": "code",
   "execution_count": null,
   "metadata": {},
   "outputs": [],
   "source": [
    "#Final Capital of simulations > Initial Capital probability.\n",
    "WL3=pd.DataFrame((((df3_10.iloc[:,-1]>500).value_counts())).rename({True: \"Wins\", False: \"Losses\"}))\n",
    "WL3.rename(columns={9: 'Prob.'}, inplace=True)\n",
    "WL3"
   ]
  },
  {
   "cell_type": "code",
   "execution_count": null,
   "metadata": {},
   "outputs": [],
   "source": [
    "desc3 = pd.DataFrame(df3_10.iloc[:,-1].describe())\n",
    "desc3.rename(columns={9: 'F_Capital'}, inplace=True)\n",
    "desc3"
   ]
  },
  {
   "cell_type": "code",
   "execution_count": null,
   "metadata": {},
   "outputs": [],
   "source": [
    "def diceGame(n):\n",
    "    \"\"\"Simulates a dice game and returns the probability of winning, losing, and rerolling events.\n",
    "    Parameters\n",
    "    ----------\n",
    "    n : int\n",
    "        Number of simulations.  \n",
    "    Returns\n",
    "    -------\n",
    "    plot : histogram\n",
    "        Histogram of probabilities of winning, losing, and rerolling events.\n",
    "    \"\"\"\n",
    "    dice_1 = np.random.randint(1,7,n)\n",
    "    dice_2 = np.random.randint(1,7,n)\n",
    "    s = dice_1+dice_2\n",
    "    # 7 and 11 are the only two numbers that win\n",
    "    wins = [len(s[s == wins])/len(s) for wins in [7,11]]\n",
    "    w=wins[0]+wins[1]\n",
    "    # 2, 3, and 12 are the only three numbers that lose\n",
    "    loses = [len(s[s == loses])/len(s) for loses in [2,3,12]]\n",
    "    l=loses[0]+loses[1]+loses[2]\n",
    "    # All other numbers are rerolled\n",
    "    rep = [len(s[s == rep])/len(s) for rep in [4,5,6,8,9,10]]\n",
    "    rep = np.sum([rep[i] for i in range(len(rep))])\n",
    "    plt.style.use('ggplot')\n",
    "    plt.title('Probability of Events in Dice Games')\n",
    "    plt.bar(['Win', 'Reroll', 'Lose'], [w,rep,l])\n",
    "    plt.ylabel('Probability')\n",
    "    return plt.show()"
   ]
  },
  {
   "cell_type": "code",
   "execution_count": null,
   "metadata": {},
   "outputs": [],
   "source": [
    "diceGame(10000)"
   ]
  },
  {
   "attachments": {},
   "cell_type": "markdown",
   "metadata": {},
   "source": [
    "#### 3. Monty Hall (5 points)\n",
    "You are given the choice of three doors: behind one door is a valuable prize; Behind the other two, goats. You choose a door, let's say the No. 1, and the host, who knows what is behind the doors, opens another door, suppose the No. 3, who has a goat. Then he says to you: \"Do you want to choose door No. 2?\" Is there an advantage to changing the first door chosen?. Solve this problem using montecarlo and answer the following question:\n",
    "What would be the probability of winning the valuable prize if you choose to change the first gate chosen?"
   ]
  },
  {
   "cell_type": "code",
   "execution_count": null,
   "metadata": {},
   "outputs": [],
   "source": [
    "# Simulations\n",
    "n = 10000\n",
    "\n",
    "# Initialize \n",
    "doors_2 = 0\n",
    "doors_3 = 0\n",
    "\n",
    "# Simulation\n",
    "for i in range(n):\n",
    "    doors = ['goat', 'prize', 'goat']\n",
    "    # Change the results\n",
    "    np.random.shuffle(doors)\n",
    "    # Random choice\n",
    "    choice_3 = np.random.randint(0, 2)\n",
    "    # Removal of door containing a goat\n",
    "    goat_X = np.random.choice([i for i in range(len(doors)) if doors[i] == 'goat' and i != choice_3])\n",
    "    doors_remaining = [0, 1, 2]\n",
    "    doors_remaining.remove(choice_3) # Elimination of choice with 3 doors\n",
    "    doors_remaining.remove(goat_X) # Goat removal\n",
    "    choice_2 = doors_remaining[0] # Choice resulting from having 2 doors\n",
    "    # Count hits with 3 and 2 doors after change of choice.\n",
    "    if doors[choice_3] == 'prize':\n",
    "        doors_3 += 1\n",
    "    elif doors[choice_2] == 'prize':\n",
    "        doors_2 += 1\n",
    "        \n",
    "# Histogram of probabilities\n",
    "plt.style.use('classic')\n",
    "plt.bar(['Win Prob.', 'Prob. removing a goat.'],\\\n",
    "        [doors_3 / n, doors_2 / n], width=0.5)\n",
    "plt.ylabel('Probability')\n",
    "plt.show()"
   ]
  },
  {
   "cell_type": "code",
   "execution_count": null,
   "metadata": {
    "ExecuteTime": {
     "end_time": "2021-10-05T15:41:34.456369Z",
     "start_time": "2021-10-05T15:41:34.444440Z"
    }
   },
   "outputs": [],
   "source": [
    "print('The probability of opening the door containing the prize is:', doors_3 / n,\n",
    "      '. If a door is removed by containing a goat, the new. chance of winning is:', doors_2 / n)"
   ]
  },
  {
   "attachments": {},
   "cell_type": "markdown",
   "metadata": {},
   "source": [
    "#### 4. Triangles Game (5 points)\n",
    "Three uniformly random points are chosen from the perimeter of a unit circle. <br>\n",
    "Use Monte Carlo simulation to generate triangles. <br>\n",
    "¿what is the probability of randomly generating acute triangles?"
   ]
  },
  {
   "cell_type": "code",
   "execution_count": null,
   "metadata": {},
   "outputs": [],
   "source": [
    "#Monte Carlo simulation to find the probability that the points form an acute triangle, what is the probability of randomly generating acute triangles?\n",
    "def triangle(n):\n",
    "    \"\"\"Simulates a triangle and returns the probability of being acute.\n",
    "    Parameters\n",
    "    ----------\n",
    "    n : int\n",
    "        Number of simulations.  \n",
    "    Returns\n",
    "    -------\n",
    "    plot : histogram\n",
    "        Histogram of probabilities of being acute.\n",
    "    \"\"\"\n",
    "\n",
    "    acute = 0\n",
    "    for i in range(n):\n",
    "        x = np.random.randint(1, 100, 3)\n",
    "        y = np.random.randint(1, 100, 3)\n",
    "        a = np.sqrt((x[1] - x[0])**2 + (y[1] - y[0])**2)\n",
    "        b = np.sqrt((x[2] - x[1])**2 + (y[2] - y[1])**2)\n",
    "        c = np.sqrt((x[2] - x[0])**2 + (y[2] - y[0])**2)\n",
    "        if a**2 + b**2 > c**2 and a**2 + c**2 > b**2 and b**2 + c**2 > a**2:\n",
    "            acute += 1\n",
    "\n",
    "    return print(\"The probability of forming an acute triangle is:\", acute / n)\n",
    "\n",
    "triangle(10000)"
   ]
  }
 ],
 "metadata": {
  "kernelspec": {
   "display_name": "Python 3 (ipykernel)",
   "language": "python",
   "name": "python3"
  },
  "language_info": {
   "codemirror_mode": {
    "name": "ipython",
    "version": 3
   },
   "file_extension": ".py",
   "mimetype": "text/x-python",
   "name": "python",
   "nbconvert_exporter": "python",
   "pygments_lexer": "ipython3",
   "version": "3.8.13"
  },
  "latex_envs": {
   "LaTeX_envs_menu_present": true,
   "autoclose": false,
   "autocomplete": true,
   "bibliofile": "biblio.bib",
   "cite_by": "apalike",
   "current_citInitial": 1,
   "eqLabelWithNumbers": true,
   "eqNumInitial": 1,
   "hotkeys": {
    "equation": "Ctrl-E",
    "itemize": "Ctrl-I"
   },
   "labels_anchors": false,
   "latex_user_defs": false,
   "report_style_numbering": false,
   "user_envs_cfg": false
  }
 },
 "nbformat": 4,
 "nbformat_minor": 4
}
